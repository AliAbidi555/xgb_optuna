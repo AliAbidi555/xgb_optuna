{
 "cells": [
  {
   "cell_type": "code",
   "execution_count": 50,
   "metadata": {},
   "outputs": [],
   "source": [
    "import os\n",
    "import time\n",
    "import csv\n",
    "import subprocess\n",
    "import psutil\n",
    "from datetime import datetime\n",
    "\n",
    "import pandas as pd\n",
    "import numpy as np\n",
    "import seaborn as sns\n",
    "import featuretools as ft\n",
    "import dtale\n",
    "from feature_engine.imputation import CategoricalImputer\n",
    "from feature_engine.encoding import RareLabelEncoder\n",
    "\n",
    "from boruta import BorutaPy\n",
    "\n",
    "from fancyimpute import KNN\n",
    "from sklearn.impute import SimpleImputer\n",
    "from sklearn.ensemble import IsolationForest\n",
    "\n",
    "from sklearn.ensemble import RandomForestClassifier,RandomForestRegressor\n",
    "from sklearn.model_selection import train_test_split\n",
    "from sklearn.metrics import mean_squared_error, mean_absolute_error, r2_score\n",
    "from sklearn.inspection import PartialDependenceDisplay\n",
    "\n",
    "\n",
    "import category_encoders as ce\n",
    "\n",
    "import sweetviz as sv\n",
    "\n",
    "import xgboost as xgb\n",
    "import optuna\n",
    "import optuna.visualization as vis\n",
    "\n",
    "import streamlit as st\n",
    "import matplotlib.pyplot as plt\n"
   ]
  },
  {
   "cell_type": "code",
   "execution_count": 51,
   "metadata": {},
   "outputs": [
    {
     "data": {
      "text/html": [
       "<div>\n",
       "<style scoped>\n",
       "    .dataframe tbody tr th:only-of-type {\n",
       "        vertical-align: middle;\n",
       "    }\n",
       "\n",
       "    .dataframe tbody tr th {\n",
       "        vertical-align: top;\n",
       "    }\n",
       "\n",
       "    .dataframe thead th {\n",
       "        text-align: right;\n",
       "    }\n",
       "</style>\n",
       "<table border=\"1\" class=\"dataframe\">\n",
       "  <thead>\n",
       "    <tr style=\"text-align: right;\">\n",
       "      <th></th>\n",
       "      <th>gender</th>\n",
       "      <th>race_ethnicity</th>\n",
       "      <th>parental_level_of_education</th>\n",
       "      <th>lunch</th>\n",
       "      <th>test_preparation_course</th>\n",
       "      <th>math_score</th>\n",
       "      <th>reading_score</th>\n",
       "      <th>writing_score</th>\n",
       "      <th>highcard</th>\n",
       "    </tr>\n",
       "  </thead>\n",
       "  <tbody>\n",
       "    <tr>\n",
       "      <th>0</th>\n",
       "      <td>female</td>\n",
       "      <td>group B</td>\n",
       "      <td>bachelor's degree</td>\n",
       "      <td>standard</td>\n",
       "      <td>none</td>\n",
       "      <td>72.0</td>\n",
       "      <td>72</td>\n",
       "      <td>74.0</td>\n",
       "      <td>Category_8</td>\n",
       "    </tr>\n",
       "    <tr>\n",
       "      <th>1</th>\n",
       "      <td>female</td>\n",
       "      <td>group C</td>\n",
       "      <td>some college</td>\n",
       "      <td>standard</td>\n",
       "      <td>completed</td>\n",
       "      <td>69.0</td>\n",
       "      <td>90</td>\n",
       "      <td>88.0</td>\n",
       "      <td>Category_26</td>\n",
       "    </tr>\n",
       "    <tr>\n",
       "      <th>2</th>\n",
       "      <td>female</td>\n",
       "      <td>group B</td>\n",
       "      <td>master's degree</td>\n",
       "      <td>standard</td>\n",
       "      <td>none</td>\n",
       "      <td>90.0</td>\n",
       "      <td>95</td>\n",
       "      <td>93.0</td>\n",
       "      <td>Category_14</td>\n",
       "    </tr>\n",
       "    <tr>\n",
       "      <th>3</th>\n",
       "      <td>male</td>\n",
       "      <td>group A</td>\n",
       "      <td>associate's degree</td>\n",
       "      <td>free/reduced</td>\n",
       "      <td>none</td>\n",
       "      <td>47.0</td>\n",
       "      <td>57</td>\n",
       "      <td>44.0</td>\n",
       "      <td>Category_6</td>\n",
       "    </tr>\n",
       "    <tr>\n",
       "      <th>4</th>\n",
       "      <td>male</td>\n",
       "      <td>group C</td>\n",
       "      <td>some college</td>\n",
       "      <td>standard</td>\n",
       "      <td>none</td>\n",
       "      <td>76.0</td>\n",
       "      <td>78</td>\n",
       "      <td>75.0</td>\n",
       "      <td>Category_6</td>\n",
       "    </tr>\n",
       "  </tbody>\n",
       "</table>\n",
       "</div>"
      ],
      "text/plain": [
       "   gender race_ethnicity parental_level_of_education         lunch  \\\n",
       "0  female        group B           bachelor's degree      standard   \n",
       "1  female        group C                some college      standard   \n",
       "2  female        group B             master's degree      standard   \n",
       "3    male        group A          associate's degree  free/reduced   \n",
       "4    male        group C                some college      standard   \n",
       "\n",
       "  test_preparation_course  math_score  reading_score  writing_score  \\\n",
       "0                    none        72.0             72           74.0   \n",
       "1               completed        69.0             90           88.0   \n",
       "2                    none        90.0             95           93.0   \n",
       "3                    none        47.0             57           44.0   \n",
       "4                    none        76.0             78           75.0   \n",
       "\n",
       "      highcard  \n",
       "0   Category_8  \n",
       "1  Category_26  \n",
       "2  Category_14  \n",
       "3   Category_6  \n",
       "4   Category_6  "
      ]
     },
     "execution_count": 51,
     "metadata": {},
     "output_type": "execute_result"
    }
   ],
   "source": [
    "### Step 1: Use dtale to look into missing values\n",
    "\n",
    "df = pd.read_csv(\"StudentsPerformance.csv\")\n",
    "\n",
    "## Create a high cardinality categorical variable:\n",
    "\n",
    "df['highcard'] =  np.random.choice([f'Category_{i}' for i in range(1, 30)], size=len(df))\n",
    "\n",
    "### Replace special characters and spaces in dataframe\n",
    "df.columns = df.columns.str.replace(r'[^A-Za-z0-9]+', '_', regex=True)\n",
    "\n",
    "df.head()\n"
   ]
  },
  {
   "cell_type": "code",
   "execution_count": 52,
   "metadata": {},
   "outputs": [
    {
     "data": {
      "application/vnd.jupyter.widget-view+json": {
       "model_id": "d68e9c4783ea4419a7edc141f7b2059c",
       "version_major": 2,
       "version_minor": 0
      },
      "text/plain": [
       "                                             |          | [  0%]   00:00 -> (? left)"
      ]
     },
     "metadata": {},
     "output_type": "display_data"
    },
    {
     "name": "stdout",
     "output_type": "stream",
     "text": [
      "Report sweetviz_report.html was generated! NOTEBOOK/COLAB USERS: the web browser MAY not pop up, regardless, the report IS saved in your notebook/colab files.\n"
     ]
    }
   ],
   "source": [
    "### Save a sweetviz report to analyze graphs. \n",
    "\n",
    "report = sv.analyze(df)\n",
    "report.show_html(\"sweetviz_report.html\")\n"
   ]
  },
  {
   "cell_type": "code",
   "execution_count": 53,
   "metadata": {},
   "outputs": [
    {
     "name": "stdout",
     "output_type": "stream",
     "text": [
      "Imputing row 1/1000 with 0 missing, elapsed time: 0.071\n",
      "Imputing row 101/1000 with 0 missing, elapsed time: 0.071\n",
      "Imputing row 201/1000 with 0 missing, elapsed time: 0.071\n",
      "Imputing row 301/1000 with 0 missing, elapsed time: 0.071\n",
      "Imputing row 401/1000 with 0 missing, elapsed time: 0.071\n",
      "Imputing row 501/1000 with 0 missing, elapsed time: 0.072\n",
      "Imputing row 601/1000 with 0 missing, elapsed time: 0.072\n",
      "Imputing row 701/1000 with 0 missing, elapsed time: 0.072\n",
      "Imputing row 801/1000 with 0 missing, elapsed time: 0.072\n",
      "Imputing row 901/1000 with 0 missing, elapsed time: 0.072\n"
     ]
    },
    {
     "data": {
      "text/html": [
       "<div>\n",
       "<style scoped>\n",
       "    .dataframe tbody tr th:only-of-type {\n",
       "        vertical-align: middle;\n",
       "    }\n",
       "\n",
       "    .dataframe tbody tr th {\n",
       "        vertical-align: top;\n",
       "    }\n",
       "\n",
       "    .dataframe thead th {\n",
       "        text-align: right;\n",
       "    }\n",
       "</style>\n",
       "<table border=\"1\" class=\"dataframe\">\n",
       "  <thead>\n",
       "    <tr style=\"text-align: right;\">\n",
       "      <th></th>\n",
       "      <th>math_score</th>\n",
       "      <th>reading_score</th>\n",
       "      <th>writing_score</th>\n",
       "      <th>gender</th>\n",
       "      <th>race_ethnicity</th>\n",
       "      <th>parental_level_of_education</th>\n",
       "      <th>lunch</th>\n",
       "      <th>test_preparation_course</th>\n",
       "      <th>highcard</th>\n",
       "    </tr>\n",
       "  </thead>\n",
       "  <tbody>\n",
       "    <tr>\n",
       "      <th>0</th>\n",
       "      <td>72.0</td>\n",
       "      <td>72.0</td>\n",
       "      <td>74.0</td>\n",
       "      <td>female</td>\n",
       "      <td>group B</td>\n",
       "      <td>bachelor's degree</td>\n",
       "      <td>standard</td>\n",
       "      <td>none</td>\n",
       "      <td>Category_8</td>\n",
       "    </tr>\n",
       "    <tr>\n",
       "      <th>1</th>\n",
       "      <td>69.0</td>\n",
       "      <td>90.0</td>\n",
       "      <td>88.0</td>\n",
       "      <td>female</td>\n",
       "      <td>group C</td>\n",
       "      <td>some college</td>\n",
       "      <td>standard</td>\n",
       "      <td>completed</td>\n",
       "      <td>Category_26</td>\n",
       "    </tr>\n",
       "    <tr>\n",
       "      <th>2</th>\n",
       "      <td>90.0</td>\n",
       "      <td>95.0</td>\n",
       "      <td>93.0</td>\n",
       "      <td>female</td>\n",
       "      <td>group B</td>\n",
       "      <td>master's degree</td>\n",
       "      <td>standard</td>\n",
       "      <td>none</td>\n",
       "      <td>Category_14</td>\n",
       "    </tr>\n",
       "    <tr>\n",
       "      <th>3</th>\n",
       "      <td>47.0</td>\n",
       "      <td>57.0</td>\n",
       "      <td>44.0</td>\n",
       "      <td>male</td>\n",
       "      <td>group A</td>\n",
       "      <td>associate's degree</td>\n",
       "      <td>free/reduced</td>\n",
       "      <td>none</td>\n",
       "      <td>Category_6</td>\n",
       "    </tr>\n",
       "    <tr>\n",
       "      <th>4</th>\n",
       "      <td>76.0</td>\n",
       "      <td>78.0</td>\n",
       "      <td>75.0</td>\n",
       "      <td>male</td>\n",
       "      <td>group C</td>\n",
       "      <td>some college</td>\n",
       "      <td>standard</td>\n",
       "      <td>none</td>\n",
       "      <td>Category_6</td>\n",
       "    </tr>\n",
       "  </tbody>\n",
       "</table>\n",
       "</div>"
      ],
      "text/plain": [
       "   math_score  reading_score  writing_score  gender race_ethnicity  \\\n",
       "0        72.0           72.0           74.0  female        group B   \n",
       "1        69.0           90.0           88.0  female        group C   \n",
       "2        90.0           95.0           93.0  female        group B   \n",
       "3        47.0           57.0           44.0    male        group A   \n",
       "4        76.0           78.0           75.0    male        group C   \n",
       "\n",
       "  parental_level_of_education         lunch test_preparation_course  \\\n",
       "0           bachelor's degree      standard                    none   \n",
       "1                some college      standard               completed   \n",
       "2             master's degree      standard                    none   \n",
       "3          associate's degree  free/reduced                    none   \n",
       "4                some college      standard                    none   \n",
       "\n",
       "      highcard  \n",
       "0   Category_8  \n",
       "1  Category_26  \n",
       "2  Category_14  \n",
       "3   Category_6  \n",
       "4   Category_6  "
      ]
     },
     "execution_count": 53,
     "metadata": {},
     "output_type": "execute_result"
    }
   ],
   "source": [
    "### Step 2: Use fancyimpute and sklearn.SimpleImpute\n",
    "\n",
    "\n",
    "## Select the categorical and numeric variables\n",
    "numeric_cols = df.select_dtypes(include=[np.number]).columns\n",
    "categorical_cols = df.select_dtypes(include=['object']).columns\n",
    "\n",
    "## First the numeric variables are filled\n",
    "df_numeric = pd.DataFrame(KNN(k=3).fit_transform(df[numeric_cols]), columns=numeric_cols)\n",
    "\n",
    "\n",
    "## Next fill the categorical variables\n",
    "cat_imputer = SimpleImputer(strategy='most_frequent')\n",
    "df_categorical = pd.DataFrame(cat_imputer.fit_transform(df[categorical_cols]), columns=categorical_cols)\n",
    "\n",
    "\n",
    "df_imputed = pd.concat([df_numeric, df_categorical], axis=1)\n",
    "df_imputed.head()\n"
   ]
  },
  {
   "cell_type": "code",
   "execution_count": 54,
   "metadata": {},
   "outputs": [],
   "source": [
    "### Next, encode categorical variables \n",
    "\n",
    "\n",
    "##  manually specify them if you need to use a target_encoder separately: \n",
    "categorical_columns = ['gender', 'race_ethnicity', 'parental_level_of_education', 'lunch',\n",
    "       'test_preparation_course']\n",
    "\n",
    "## Use this code to pull categorical columns\n",
    "categorical_columns = df_imputed.select_dtypes(include=['object', 'category']).columns.tolist()\n",
    "\n",
    "## Highlight all the high cardinality columns\n",
    "highcard = ['highcard']\n",
    "\n",
    "\n",
    "## Use a rarelabelencoder for high cardinality. This way we're not generating too many variables \n",
    "encoder = RareLabelEncoder(\n",
    "    tol=0.04,         # Minimum frequency a category must have to remain (5% in this case)\n",
    "    n_categories=1,   # Ensures only one \"Other\" category is created\n",
    "    replace_with='Other',  # Label for grouped categories\n",
    "    variables=highcard  # Column to apply encoding\n",
    ")\n",
    "\n",
    "df_encoded = encoder.fit_transform(df_imputed)\n",
    "\n",
    "## Initialize categorical encoder for all categorical variables\n",
    "encoder = ce.OneHotEncoder(cols=categorical_columns, use_cat_names=True)\n",
    "df_encoded = encoder.fit_transform(df_encoded)\n",
    "\n",
    "\n",
    "\n"
   ]
  },
  {
   "cell_type": "code",
   "execution_count": 55,
   "metadata": {},
   "outputs": [
    {
     "data": {
      "text/html": [
       "<div>\n",
       "<style scoped>\n",
       "    .dataframe tbody tr th:only-of-type {\n",
       "        vertical-align: middle;\n",
       "    }\n",
       "\n",
       "    .dataframe tbody tr th {\n",
       "        vertical-align: top;\n",
       "    }\n",
       "\n",
       "    .dataframe thead th {\n",
       "        text-align: right;\n",
       "    }\n",
       "</style>\n",
       "<table border=\"1\" class=\"dataframe\">\n",
       "  <thead>\n",
       "    <tr style=\"text-align: right;\">\n",
       "      <th></th>\n",
       "      <th>math_score</th>\n",
       "      <th>reading_score</th>\n",
       "      <th>writing_score</th>\n",
       "      <th>gender_female</th>\n",
       "      <th>gender_male</th>\n",
       "      <th>race_ethnicity_group B</th>\n",
       "      <th>race_ethnicity_group C</th>\n",
       "      <th>race_ethnicity_group A</th>\n",
       "      <th>race_ethnicity_group D</th>\n",
       "      <th>race_ethnicity_group E</th>\n",
       "      <th>...</th>\n",
       "      <th>test_preparation_course_none</th>\n",
       "      <th>test_preparation_course_completed</th>\n",
       "      <th>highcard_Category_8</th>\n",
       "      <th>highcard_Other</th>\n",
       "      <th>highcard_Category_4</th>\n",
       "      <th>highcard_Category_1</th>\n",
       "      <th>highcard_Category_9</th>\n",
       "      <th>highcard_Category_3</th>\n",
       "      <th>highcard_Category_18</th>\n",
       "      <th>highcard_Category_5</th>\n",
       "    </tr>\n",
       "  </thead>\n",
       "  <tbody>\n",
       "    <tr>\n",
       "      <th>0</th>\n",
       "      <td>72.0</td>\n",
       "      <td>72.0</td>\n",
       "      <td>74.0</td>\n",
       "      <td>1</td>\n",
       "      <td>0</td>\n",
       "      <td>1</td>\n",
       "      <td>0</td>\n",
       "      <td>0</td>\n",
       "      <td>0</td>\n",
       "      <td>0</td>\n",
       "      <td>...</td>\n",
       "      <td>1</td>\n",
       "      <td>0</td>\n",
       "      <td>1</td>\n",
       "      <td>0</td>\n",
       "      <td>0</td>\n",
       "      <td>0</td>\n",
       "      <td>0</td>\n",
       "      <td>0</td>\n",
       "      <td>0</td>\n",
       "      <td>0</td>\n",
       "    </tr>\n",
       "    <tr>\n",
       "      <th>1</th>\n",
       "      <td>69.0</td>\n",
       "      <td>90.0</td>\n",
       "      <td>88.0</td>\n",
       "      <td>1</td>\n",
       "      <td>0</td>\n",
       "      <td>0</td>\n",
       "      <td>1</td>\n",
       "      <td>0</td>\n",
       "      <td>0</td>\n",
       "      <td>0</td>\n",
       "      <td>...</td>\n",
       "      <td>0</td>\n",
       "      <td>1</td>\n",
       "      <td>0</td>\n",
       "      <td>1</td>\n",
       "      <td>0</td>\n",
       "      <td>0</td>\n",
       "      <td>0</td>\n",
       "      <td>0</td>\n",
       "      <td>0</td>\n",
       "      <td>0</td>\n",
       "    </tr>\n",
       "    <tr>\n",
       "      <th>2</th>\n",
       "      <td>90.0</td>\n",
       "      <td>95.0</td>\n",
       "      <td>93.0</td>\n",
       "      <td>1</td>\n",
       "      <td>0</td>\n",
       "      <td>1</td>\n",
       "      <td>0</td>\n",
       "      <td>0</td>\n",
       "      <td>0</td>\n",
       "      <td>0</td>\n",
       "      <td>...</td>\n",
       "      <td>1</td>\n",
       "      <td>0</td>\n",
       "      <td>0</td>\n",
       "      <td>1</td>\n",
       "      <td>0</td>\n",
       "      <td>0</td>\n",
       "      <td>0</td>\n",
       "      <td>0</td>\n",
       "      <td>0</td>\n",
       "      <td>0</td>\n",
       "    </tr>\n",
       "    <tr>\n",
       "      <th>3</th>\n",
       "      <td>47.0</td>\n",
       "      <td>57.0</td>\n",
       "      <td>44.0</td>\n",
       "      <td>0</td>\n",
       "      <td>1</td>\n",
       "      <td>0</td>\n",
       "      <td>0</td>\n",
       "      <td>1</td>\n",
       "      <td>0</td>\n",
       "      <td>0</td>\n",
       "      <td>...</td>\n",
       "      <td>1</td>\n",
       "      <td>0</td>\n",
       "      <td>0</td>\n",
       "      <td>1</td>\n",
       "      <td>0</td>\n",
       "      <td>0</td>\n",
       "      <td>0</td>\n",
       "      <td>0</td>\n",
       "      <td>0</td>\n",
       "      <td>0</td>\n",
       "    </tr>\n",
       "    <tr>\n",
       "      <th>4</th>\n",
       "      <td>76.0</td>\n",
       "      <td>78.0</td>\n",
       "      <td>75.0</td>\n",
       "      <td>0</td>\n",
       "      <td>1</td>\n",
       "      <td>0</td>\n",
       "      <td>1</td>\n",
       "      <td>0</td>\n",
       "      <td>0</td>\n",
       "      <td>0</td>\n",
       "      <td>...</td>\n",
       "      <td>1</td>\n",
       "      <td>0</td>\n",
       "      <td>0</td>\n",
       "      <td>1</td>\n",
       "      <td>0</td>\n",
       "      <td>0</td>\n",
       "      <td>0</td>\n",
       "      <td>0</td>\n",
       "      <td>0</td>\n",
       "      <td>0</td>\n",
       "    </tr>\n",
       "  </tbody>\n",
       "</table>\n",
       "<p>5 rows × 28 columns</p>\n",
       "</div>"
      ],
      "text/plain": [
       "   math_score  reading_score  writing_score  gender_female  gender_male  \\\n",
       "0        72.0           72.0           74.0              1            0   \n",
       "1        69.0           90.0           88.0              1            0   \n",
       "2        90.0           95.0           93.0              1            0   \n",
       "3        47.0           57.0           44.0              0            1   \n",
       "4        76.0           78.0           75.0              0            1   \n",
       "\n",
       "   race_ethnicity_group B  race_ethnicity_group C  race_ethnicity_group A  \\\n",
       "0                       1                       0                       0   \n",
       "1                       0                       1                       0   \n",
       "2                       1                       0                       0   \n",
       "3                       0                       0                       1   \n",
       "4                       0                       1                       0   \n",
       "\n",
       "   race_ethnicity_group D  race_ethnicity_group E  ...  \\\n",
       "0                       0                       0  ...   \n",
       "1                       0                       0  ...   \n",
       "2                       0                       0  ...   \n",
       "3                       0                       0  ...   \n",
       "4                       0                       0  ...   \n",
       "\n",
       "   test_preparation_course_none  test_preparation_course_completed  \\\n",
       "0                             1                                  0   \n",
       "1                             0                                  1   \n",
       "2                             1                                  0   \n",
       "3                             1                                  0   \n",
       "4                             1                                  0   \n",
       "\n",
       "   highcard_Category_8  highcard_Other  highcard_Category_4  \\\n",
       "0                    1               0                    0   \n",
       "1                    0               1                    0   \n",
       "2                    0               1                    0   \n",
       "3                    0               1                    0   \n",
       "4                    0               1                    0   \n",
       "\n",
       "   highcard_Category_1  highcard_Category_9  highcard_Category_3  \\\n",
       "0                    0                    0                    0   \n",
       "1                    0                    0                    0   \n",
       "2                    0                    0                    0   \n",
       "3                    0                    0                    0   \n",
       "4                    0                    0                    0   \n",
       "\n",
       "   highcard_Category_18  highcard_Category_5  \n",
       "0                     0                    0  \n",
       "1                     0                    0  \n",
       "2                     0                    0  \n",
       "3                     0                    0  \n",
       "4                     0                    0  \n",
       "\n",
       "[5 rows x 28 columns]"
      ]
     },
     "execution_count": 55,
     "metadata": {},
     "output_type": "execute_result"
    }
   ],
   "source": [
    "### Deal with outliers\n",
    "\n",
    "## Setup the isolationforest \n",
    "iso_forest = IsolationForest(contamination=0.05, random_state=42)\n",
    "outliers = iso_forest.fit_predict(df_encoded)\n",
    "\n",
    "df_encoded['Outlier'] = outliers\n",
    "df_inliers = df_encoded[df_encoded['Outlier'] == 1].drop(columns='Outlier')\n",
    "df_inliers.head()\n"
   ]
  },
  {
   "cell_type": "code",
   "execution_count": 56,
   "metadata": {},
   "outputs": [
    {
     "name": "stdout",
     "output_type": "stream",
     "text": [
      "Selected Features: ['math_score', 'reading_score', 'gender_female', 'gender_male', 'race_ethnicity_group D', 'parental_level_of_education_some high school', 'test_preparation_course_none', 'test_preparation_course_completed']\n"
     ]
    }
   ],
   "source": [
    "### Use Boruta\n",
    "rf = RandomForestRegressor(n_jobs=-1, random_state=42)\n",
    "boruta_selector = BorutaPy(rf, n_estimators='auto', alpha=0.01,max_iter=200,perc=80) ### Lower alpha to select fewer variables\n",
    "\n",
    "\n",
    "### Select X and y and do the train test split\n",
    "y_col_name = 'writing_score'\n",
    "y = df_inliers[y_col_name]\n",
    "X= df_inliers.drop(y_col_name,axis=1)\n",
    "\n",
    "\n",
    "boruta_selector.fit(X.values, y)\n",
    "selected_features = X.columns[boruta_selector.support_].tolist()\n",
    "print(\"Selected Features:\", selected_features)\n",
    "\n",
    "X_sel = X[selected_features]\n",
    "\n",
    "X_train, X_test, y_train, y_test = train_test_split(X_sel, y, test_size=0.2, random_state=42)\n",
    "\n"
   ]
  },
  {
   "cell_type": "code",
   "execution_count": 57,
   "metadata": {},
   "outputs": [
    {
     "name": "stdout",
     "output_type": "stream",
     "text": [
      "Root Mean Squared Error (RMSE): 4.266257078535413\n"
     ]
    }
   ],
   "source": [
    "### Use XGboost:\n",
    "\n",
    "## Can define an MAE objective function: \n",
    "def custom_mae(y_true, y_pred):\n",
    "    gradient = np.sign(y_pred - y_true)  # Gradient (first derivative) of MAE\n",
    "    hessian = np.ones_like(y_true)       # Hessian (second derivative) is constant for MAE\n",
    "    return gradient, hessian\n",
    "\n",
    "#Use this for MSE\n",
    "xgb_reg = xgb.XGBRegressor(\n",
    "    objective='reg:squarederror',  # Specifies regression with squared error\n",
    "    n_estimators=100,              # Number of boosting rounds\n",
    "    learning_rate=0.1,             # Step size shrinkage\n",
    "    max_depth=4,                   # Maximum depth of trees\n",
    "    random_state=42\n",
    ")\n",
    "\n",
    "#Use this for MAE\n",
    "xgb_reg_mae = xgb.XGBRegressor(\n",
    "    objective=custom_mae,  # Specifies regression with squared error\n",
    "    n_estimators=100,              # Number of boosting rounds\n",
    "    learning_rate=0.1,             # Step size shrinkage\n",
    "    max_depth=4,                   # Maximum depth of trees\n",
    "    random_state=42\n",
    ")\n",
    "\n",
    "xgb_reg.fit(X_train, y_train)\n",
    "\n",
    "y_pred = xgb_reg.predict(X_test)\n",
    "\n",
    "# Evaluate the model\n",
    "rmse = np.sqrt(mean_squared_error(y_test, y_pred))\n",
    "print(\"Root Mean Squared Error (RMSE):\", rmse)"
   ]
  },
  {
   "cell_type": "code",
   "execution_count": 58,
   "metadata": {},
   "outputs": [
    {
     "data": {
      "text/plain": [
       "<Axes: title={'center': 'Feature importance'}, xlabel='F score', ylabel='Features'>"
      ]
     },
     "execution_count": 58,
     "metadata": {},
     "output_type": "execute_result"
    },
    {
     "data": {
      "image/png": "[encoded data removed]",
      "text/plain": [
       "<Figure size 640x480 with 1 Axes>"
      ]
     },
     "metadata": {},
     "output_type": "display_data"
    }
   ],
   "source": [
    "xgb.plot_importance(xgb_reg)\n"
   ]
  },
  {
   "cell_type": "code",
   "execution_count": 59,
   "metadata": {},
   "outputs": [
    {
     "name": "stderr",
     "output_type": "stream",
     "text": [
      "[I 2024-11-15 11:29:58,434] A new study created in memory with name: no-name-40f0ecee-e4b7-4786-b1bb-1df7bc0fd1de\n",
      "[I 2024-11-15 11:29:58,690] Trial 0 finished with value: 28.556198930790522 and parameters: {'lambda': 0.7140404036681042, 'alpha': 0.5449199210952227, 'learning_rate': 0.2527004766260615, 'n_estimators': 917, 'max_depth': 4, 'min_child_weight': 4, 'gamma': 0.9034031931396868, 'subsample': 0.5636826964092161, 'colsample_bytree': 0.8069543240632112}. Best is trial 0 with value: 28.556198930790522.\n",
      "[I 2024-11-15 11:29:58,800] Trial 1 finished with value: 23.873138268449285 and parameters: {'lambda': 0.5377514590436782, 'alpha': 0.10579401427890531, 'learning_rate': 0.19993869407751805, 'n_estimators': 278, 'max_depth': 7, 'min_child_weight': 8, 'gamma': 0.25446344740819105, 'subsample': 0.8796697301568599, 'colsample_bytree': 0.6260558962494269}. Best is trial 1 with value: 23.873138268449285.\n",
      "[I 2024-11-15 11:29:58,852] Trial 2 finished with value: 24.715469959145985 and parameters: {'lambda': 0.40816290690154483, 'alpha': 0.32048475014853706, 'learning_rate': 0.29928126780398107, 'n_estimators': 112, 'max_depth': 8, 'min_child_weight': 3, 'gamma': 0.6799641799259865, 'subsample': 0.8229287757165611, 'colsample_bytree': 0.6635886997443774}. Best is trial 1 with value: 23.873138268449285.\n",
      "[I 2024-11-15 11:29:59,042] Trial 3 finished with value: 19.835026739441616 and parameters: {'lambda': 0.45058800750359057, 'alpha': 0.8589924012665785, 'learning_rate': 0.02116495554846878, 'n_estimators': 439, 'max_depth': 10, 'min_child_weight': 2, 'gamma': 0.04946533150897847, 'subsample': 0.5115565420333086, 'colsample_bytree': 0.5140593537842593}. Best is trial 3 with value: 19.835026739441616.\n",
      "[I 2024-11-15 11:29:59,175] Trial 4 finished with value: 25.778539188960465 and parameters: {'lambda': 0.4908124222469599, 'alpha': 0.07961471980211379, 'learning_rate': 0.15556999030130764, 'n_estimators': 411, 'max_depth': 10, 'min_child_weight': 4, 'gamma': 0.8771392693557609, 'subsample': 0.7262794045192857, 'colsample_bytree': 0.5339821494923671}. Best is trial 3 with value: 19.835026739441616.\n",
      "[I 2024-11-15 11:29:59,317] Trial 5 finished with value: 23.76958646917456 and parameters: {'lambda': 0.11530408049427317, 'alpha': 0.060931048224884855, 'learning_rate': 0.20349469384205715, 'n_estimators': 755, 'max_depth': 7, 'min_child_weight': 1, 'gamma': 0.6411043795975653, 'subsample': 0.9067007809247242, 'colsample_bytree': 0.6705103298771036}. Best is trial 3 with value: 19.835026739441616.\n",
      "[I 2024-11-15 11:29:59,512] Trial 6 finished with value: 25.877761705696763 and parameters: {'lambda': 0.9785851858840011, 'alpha': 0.17666679188817214, 'learning_rate': 0.15152313420070515, 'n_estimators': 556, 'max_depth': 10, 'min_child_weight': 6, 'gamma': 0.10506783106734485, 'subsample': 0.5519750499551147, 'colsample_bytree': 0.7464772710155807}. Best is trial 3 with value: 19.835026739441616.\n",
      "[I 2024-11-15 11:29:59,622] Trial 7 finished with value: 25.76358103584858 and parameters: {'lambda': 0.6033691702472638, 'alpha': 0.6327244309199995, 'learning_rate': 0.2986696875042037, 'n_estimators': 518, 'max_depth': 4, 'min_child_weight': 7, 'gamma': 0.20828181935577328, 'subsample': 0.6764006010385046, 'colsample_bytree': 0.7672497510940599}. Best is trial 3 with value: 19.835026739441616.\n",
      "[I 2024-11-15 11:29:59,708] Trial 8 finished with value: 21.899701181737537 and parameters: {'lambda': 0.9255862258103363, 'alpha': 0.7292593139985227, 'learning_rate': 0.2458478773626525, 'n_estimators': 441, 'max_depth': 4, 'min_child_weight': 8, 'gamma': 0.4763122357530746, 'subsample': 0.9628114589236234, 'colsample_bytree': 0.6345410282168145}. Best is trial 3 with value: 19.835026739441616.\n",
      "[I 2024-11-15 11:29:59,811] Trial 9 finished with value: 22.342379789100807 and parameters: {'lambda': 0.4601934839906186, 'alpha': 0.8875309862298648, 'learning_rate': 0.13407333081195152, 'n_estimators': 404, 'max_depth': 5, 'min_child_weight': 9, 'gamma': 0.27978644778253337, 'subsample': 0.7195164631439683, 'colsample_bytree': 0.8058899222385004}. Best is trial 3 with value: 19.835026739441616.\n",
      "[I 2024-11-15 11:29:59,963] Trial 10 finished with value: 24.278176836575682 and parameters: {'lambda': 0.888453949840827, 'alpha': 0.5665283694560579, 'learning_rate': 0.17679724134557873, 'n_estimators': 456, 'max_depth': 10, 'min_child_weight': 1, 'gamma': 0.2763418735043224, 'subsample': 0.8966482300340017, 'colsample_bytree': 0.9557529338014807}. Best is trial 3 with value: 19.835026739441616.\n",
      "[I 2024-11-15 11:30:00,106] Trial 11 finished with value: 24.56589128267088 and parameters: {'lambda': 0.8302455969837915, 'alpha': 0.22168392506155957, 'learning_rate': 0.1873855181779139, 'n_estimators': 435, 'max_depth': 5, 'min_child_weight': 7, 'gamma': 0.15724003651811314, 'subsample': 0.7677199476674418, 'colsample_bytree': 0.9190953642792807}. Best is trial 3 with value: 19.835026739441616.\n",
      "[I 2024-11-15 11:30:00,183] Trial 12 finished with value: 20.977872983390146 and parameters: {'lambda': 0.6408542873863676, 'alpha': 0.5279507806243517, 'learning_rate': 0.1278280813691959, 'n_estimators': 177, 'max_depth': 6, 'min_child_weight': 6, 'gamma': 0.3668234562685181, 'subsample': 0.5747703581779786, 'colsample_bytree': 0.9213386702574431}. Best is trial 3 with value: 19.835026739441616.\n",
      "[I 2024-11-15 11:30:00,323] Trial 13 finished with value: 20.480269998509673 and parameters: {'lambda': 0.8411283486082701, 'alpha': 0.16489522201010237, 'learning_rate': 0.057878399590660844, 'n_estimators': 235, 'max_depth': 8, 'min_child_weight': 3, 'gamma': 0.737280900119902, 'subsample': 0.696093974843582, 'colsample_bytree': 0.7741697437636814}. Best is trial 3 with value: 19.835026739441616.\n",
      "[I 2024-11-15 11:30:00,463] Trial 14 finished with value: 23.224488840575617 and parameters: {'lambda': 0.9263860681550954, 'alpha': 0.9961964258104019, 'learning_rate': 0.2543142059164304, 'n_estimators': 299, 'max_depth': 10, 'min_child_weight': 8, 'gamma': 0.23826021866791747, 'subsample': 0.9461999802629233, 'colsample_bytree': 0.8172057081669822}. Best is trial 3 with value: 19.835026739441616.\n",
      "[I 2024-11-15 11:30:00,618] Trial 15 finished with value: 23.047184602458163 and parameters: {'lambda': 0.013566743147444093, 'alpha': 0.06496581997360455, 'learning_rate': 0.22115145489848065, 'n_estimators': 779, 'max_depth': 3, 'min_child_weight': 10, 'gamma': 0.42879551036190666, 'subsample': 0.892137381635657, 'colsample_bytree': 0.9581264237116417}. Best is trial 3 with value: 19.835026739441616.\n",
      "[I 2024-11-15 11:30:00,671] Trial 16 finished with value: 20.985018221358864 and parameters: {'lambda': 0.3344206760681654, 'alpha': 0.4040813311461884, 'learning_rate': 0.24456145141135796, 'n_estimators': 180, 'max_depth': 9, 'min_child_weight': 6, 'gamma': 0.962959755624357, 'subsample': 0.9497129347678723, 'colsample_bytree': 0.6795440514820328}. Best is trial 3 with value: 19.835026739441616.\n",
      "[I 2024-11-15 11:30:00,815] Trial 17 finished with value: 20.762432670755878 and parameters: {'lambda': 0.04789169998150614, 'alpha': 0.781324243524976, 'learning_rate': 0.08494892840848124, 'n_estimators': 490, 'max_depth': 8, 'min_child_weight': 5, 'gamma': 0.7277174018127973, 'subsample': 0.9869250429831554, 'colsample_bytree': 0.5220736279795966}. Best is trial 3 with value: 19.835026739441616.\n",
      "[I 2024-11-15 11:30:01,071] Trial 18 finished with value: 28.87806263568914 and parameters: {'lambda': 0.06521903297451222, 'alpha': 0.5909593247420802, 'learning_rate': 0.23631352367872238, 'n_estimators': 821, 'max_depth': 6, 'min_child_weight': 5, 'gamma': 0.051583709428911884, 'subsample': 0.5926634101437274, 'colsample_bytree': 0.9162939482121301}. Best is trial 3 with value: 19.835026739441616.\n",
      "[I 2024-11-15 11:30:01,379] Trial 19 finished with value: 27.22215685619694 and parameters: {'lambda': 0.9237789718402464, 'alpha': 0.523129254973331, 'learning_rate': 0.17688683155013354, 'n_estimators': 940, 'max_depth': 8, 'min_child_weight': 9, 'gamma': 0.2737075338964313, 'subsample': 0.6212215056322454, 'colsample_bytree': 0.8258372812608065}. Best is trial 3 with value: 19.835026739441616.\n",
      "[I 2024-11-15 11:30:01,645] Trial 20 finished with value: 20.34774738528613 and parameters: {'lambda': 0.8646086519603678, 'alpha': 0.891272139370959, 'learning_rate': 0.0241263554690909, 'n_estimators': 940, 'max_depth': 6, 'min_child_weight': 2, 'gamma': 0.3425245565207182, 'subsample': 0.6234273426740232, 'colsample_bytree': 0.6949809422230762}. Best is trial 3 with value: 19.835026739441616.\n",
      "[I 2024-11-15 11:30:01,753] Trial 21 finished with value: 23.918172318971752 and parameters: {'lambda': 0.40723084041369617, 'alpha': 0.9960013283867257, 'learning_rate': 0.14838241193785753, 'n_estimators': 304, 'max_depth': 8, 'min_child_weight': 7, 'gamma': 0.10104895144771497, 'subsample': 0.6693723746073539, 'colsample_bytree': 0.9447582431746773}. Best is trial 3 with value: 19.835026739441616.\n",
      "[I 2024-11-15 11:30:01,896] Trial 22 finished with value: 22.746151426059864 and parameters: {'lambda': 0.6478830334331693, 'alpha': 0.8319730303200339, 'learning_rate': 0.1809512149863283, 'n_estimators': 684, 'max_depth': 4, 'min_child_weight': 8, 'gamma': 0.06676778537759709, 'subsample': 0.5277180203117603, 'colsample_bytree': 0.7855389768527982}. Best is trial 3 with value: 19.835026739441616.\n",
      "[I 2024-11-15 11:30:01,938] Trial 23 finished with value: 18.168684318938787 and parameters: {'lambda': 0.09281924932376527, 'alpha': 0.9935742222888968, 'learning_rate': 0.09733936197727444, 'n_estimators': 142, 'max_depth': 5, 'min_child_weight': 7, 'gamma': 0.027951955175761545, 'subsample': 0.824412561777349, 'colsample_bytree': 0.986922863086904}. Best is trial 23 with value: 18.168684318938787.\n",
      "[I 2024-11-15 11:30:02,264] Trial 24 finished with value: 26.75227403614366 and parameters: {'lambda': 0.5607902471835653, 'alpha': 0.7496130885325483, 'learning_rate': 0.11189361376086394, 'n_estimators': 940, 'max_depth': 8, 'min_child_weight': 3, 'gamma': 0.04833753072325431, 'subsample': 0.9076908748934744, 'colsample_bytree': 0.5726335202742413}. Best is trial 23 with value: 18.168684318938787.\n",
      "[I 2024-11-15 11:30:02,592] Trial 25 finished with value: 22.63115271674848 and parameters: {'lambda': 0.48755141914192296, 'alpha': 0.8496798333717132, 'learning_rate': 0.09716374927367544, 'n_estimators': 859, 'max_depth': 7, 'min_child_weight': 9, 'gamma': 0.6119418578333582, 'subsample': 0.5040666069697317, 'colsample_bytree': 0.6368284213401297}. Best is trial 23 with value: 18.168684318938787.\n",
      "[I 2024-11-15 11:30:02,768] Trial 26 finished with value: 22.26553268376355 and parameters: {'lambda': 0.501319977142942, 'alpha': 0.04757569490304113, 'learning_rate': 0.16726016057236445, 'n_estimators': 573, 'max_depth': 4, 'min_child_weight': 8, 'gamma': 0.5464795385969685, 'subsample': 0.5803872859058586, 'colsample_bytree': 0.6374270655127553}. Best is trial 23 with value: 18.168684318938787.\n",
      "[I 2024-11-15 11:30:03,183] Trial 27 finished with value: 26.61504480164434 and parameters: {'lambda': 0.9248374108738672, 'alpha': 0.9368164487133926, 'learning_rate': 0.28608845043937703, 'n_estimators': 788, 'max_depth': 10, 'min_child_weight': 2, 'gamma': 0.37242692401506183, 'subsample': 0.5616457247655706, 'colsample_bytree': 0.8756887295800961}. Best is trial 23 with value: 18.168684318938787.\n",
      "[I 2024-11-15 11:30:03,490] Trial 28 finished with value: 28.809853090967035 and parameters: {'lambda': 0.040167964103294575, 'alpha': 0.49889655406958894, 'learning_rate': 0.2698119460529992, 'n_estimators': 820, 'max_depth': 6, 'min_child_weight': 2, 'gamma': 0.19665413265059906, 'subsample': 0.7234561286615261, 'colsample_bytree': 0.8429645726154907}. Best is trial 23 with value: 18.168684318938787.\n",
      "[I 2024-11-15 11:30:03,832] Trial 29 finished with value: 27.002288228555546 and parameters: {'lambda': 0.19328445859659865, 'alpha': 0.1403751201284029, 'learning_rate': 0.13859001007161573, 'n_estimators': 797, 'max_depth': 10, 'min_child_weight': 5, 'gamma': 0.20451583366441717, 'subsample': 0.7772220084465772, 'colsample_bytree': 0.7806710913969803}. Best is trial 23 with value: 18.168684318938787.\n",
      "[I 2024-11-15 11:30:04,058] Trial 30 finished with value: 28.229628299970482 and parameters: {'lambda': 0.905158596855023, 'alpha': 0.5120347162241474, 'learning_rate': 0.2818826833678936, 'n_estimators': 710, 'max_depth': 9, 'min_child_weight': 3, 'gamma': 0.41361910301131277, 'subsample': 0.5667240704821831, 'colsample_bytree': 0.8336132039818385}. Best is trial 23 with value: 18.168684318938787.\n",
      "[I 2024-11-15 11:30:04,230] Trial 31 finished with value: 23.25185313273235 and parameters: {'lambda': 0.7874521608132948, 'alpha': 0.09922942496601936, 'learning_rate': 0.06850865145558935, 'n_estimators': 609, 'max_depth': 6, 'min_child_weight': 1, 'gamma': 0.3964227645642576, 'subsample': 0.864109977043076, 'colsample_bytree': 0.8582874784608943}. Best is trial 23 with value: 18.168684318938787.\n",
      "[I 2024-11-15 11:30:04,443] Trial 32 finished with value: 25.360618505667528 and parameters: {'lambda': 0.533857421012348, 'alpha': 0.5552541075671288, 'learning_rate': 0.11767876559718413, 'n_estimators': 713, 'max_depth': 7, 'min_child_weight': 8, 'gamma': 0.273006021511477, 'subsample': 0.536325324249674, 'colsample_bytree': 0.8856359908576114}. Best is trial 23 with value: 18.168684318938787.\n",
      "[I 2024-11-15 11:30:04,637] Trial 33 finished with value: 24.440670596736755 and parameters: {'lambda': 0.2454893933583482, 'alpha': 0.6990504456722839, 'learning_rate': 0.16044795683287746, 'n_estimators': 591, 'max_depth': 9, 'min_child_weight': 3, 'gamma': 0.24451305971700799, 'subsample': 0.7532708007269904, 'colsample_bytree': 0.9453460430553078}. Best is trial 23 with value: 18.168684318938787.\n",
      "[I 2024-11-15 11:30:04,751] Trial 34 finished with value: 17.471562946981773 and parameters: {'lambda': 0.10161743645206828, 'alpha': 0.5155696882016689, 'learning_rate': 0.034671037464741865, 'n_estimators': 640, 'max_depth': 3, 'min_child_weight': 6, 'gamma': 0.4143981549830901, 'subsample': 0.7564634862362685, 'colsample_bytree': 0.786163019866449}. Best is trial 34 with value: 17.471562946981773.\n",
      "[I 2024-11-15 11:30:04,817] Trial 35 finished with value: 26.4414743243556 and parameters: {'lambda': 0.8751150140096507, 'alpha': 0.7888877685064484, 'learning_rate': 0.2644979552575641, 'n_estimators': 184, 'max_depth': 8, 'min_child_weight': 3, 'gamma': 0.8441744683740503, 'subsample': 0.5134099494511517, 'colsample_bytree': 0.8783839012368101}. Best is trial 34 with value: 17.471562946981773.\n",
      "[I 2024-11-15 11:30:04,976] Trial 36 finished with value: 20.783824774391636 and parameters: {'lambda': 0.8136230153490713, 'alpha': 0.9564601829495066, 'learning_rate': 0.1122153781037073, 'n_estimators': 828, 'max_depth': 4, 'min_child_weight': 10, 'gamma': 0.8054413606232302, 'subsample': 0.8372494738387519, 'colsample_bytree': 0.5227750218462758}. Best is trial 34 with value: 17.471562946981773.\n",
      "[I 2024-11-15 11:30:05,322] Trial 37 finished with value: 29.150620343507608 and parameters: {'lambda': 0.19881015991016807, 'alpha': 0.5443241285021312, 'learning_rate': 0.2893214163987291, 'n_estimators': 810, 'max_depth': 9, 'min_child_weight': 1, 'gamma': 0.011561833308947, 'subsample': 0.6381709851122856, 'colsample_bytree': 0.7655617779150458}. Best is trial 34 with value: 17.471562946981773.\n",
      "[I 2024-11-15 11:30:05,354] Trial 38 finished with value: 18.91335332099079 and parameters: {'lambda': 0.3355023119883574, 'alpha': 0.8738170883684763, 'learning_rate': 0.19889894594332505, 'n_estimators': 117, 'max_depth': 5, 'min_child_weight': 5, 'gamma': 0.8366186687342929, 'subsample': 0.5072395289314798, 'colsample_bytree': 0.5297292636066139}. Best is trial 34 with value: 17.471562946981773.\n",
      "[I 2024-11-15 11:30:05,514] Trial 39 finished with value: 23.227721564473022 and parameters: {'lambda': 0.7569377511089151, 'alpha': 0.9213145707646151, 'learning_rate': 0.09480552846960427, 'n_estimators': 691, 'max_depth': 5, 'min_child_weight': 2, 'gamma': 0.43538465680468197, 'subsample': 0.6689370977450135, 'colsample_bytree': 0.5607812166972375}. Best is trial 34 with value: 17.471562946981773.\n",
      "[I 2024-11-15 11:30:05,596] Trial 40 finished with value: 24.024106162690384 and parameters: {'lambda': 0.751845759963933, 'alpha': 0.048872677232745375, 'learning_rate': 0.26216915004586405, 'n_estimators': 402, 'max_depth': 10, 'min_child_weight': 5, 'gamma': 0.7216965154690533, 'subsample': 0.9517585725819027, 'colsample_bytree': 0.8179757658855652}. Best is trial 34 with value: 17.471562946981773.\n",
      "[I 2024-11-15 11:30:05,665] Trial 41 finished with value: 22.81525979023128 and parameters: {'lambda': 0.11261902875205401, 'alpha': 0.9297389454106032, 'learning_rate': 0.10298375846654943, 'n_estimators': 182, 'max_depth': 8, 'min_child_weight': 3, 'gamma': 0.10162051121673188, 'subsample': 0.6086795136442111, 'colsample_bytree': 0.6488304207920972}. Best is trial 34 with value: 17.471562946981773.\n",
      "[I 2024-11-15 11:30:05,759] Trial 42 finished with value: 25.514600967746215 and parameters: {'lambda': 0.649765245544719, 'alpha': 0.4696757082487472, 'learning_rate': 0.2934172379056581, 'n_estimators': 413, 'max_depth': 10, 'min_child_weight': 4, 'gamma': 0.9463942692903848, 'subsample': 0.8434383216424806, 'colsample_bytree': 0.8477258359490377}. Best is trial 34 with value: 17.471562946981773.\n",
      "[I 2024-11-15 11:30:05,917] Trial 43 finished with value: 23.547418945141086 and parameters: {'lambda': 0.977954287680362, 'alpha': 0.5341983110051646, 'learning_rate': 0.24116098707673683, 'n_estimators': 899, 'max_depth': 3, 'min_child_weight': 7, 'gamma': 0.24424352244286773, 'subsample': 0.7646307985305556, 'colsample_bytree': 0.8355225596507492}. Best is trial 34 with value: 17.471562946981773.\n",
      "[I 2024-11-15 11:30:06,104] Trial 44 finished with value: 27.179224034182738 and parameters: {'lambda': 0.8980235693628255, 'alpha': 0.1551505188016117, 'learning_rate': 0.1418423041346237, 'n_estimators': 600, 'max_depth': 8, 'min_child_weight': 3, 'gamma': 0.11080452377199557, 'subsample': 0.8708684272900151, 'colsample_bytree': 0.6014133244318962}. Best is trial 34 with value: 17.471562946981773.\n",
      "[I 2024-11-15 11:30:06,144] Trial 45 finished with value: 20.07762838050403 and parameters: {'lambda': 0.4076801457144028, 'alpha': 0.43236610557959193, 'learning_rate': 0.2119446292194593, 'n_estimators': 158, 'max_depth': 4, 'min_child_weight': 5, 'gamma': 0.9352500277553285, 'subsample': 0.9065704050836338, 'colsample_bytree': 0.6919110882535235}. Best is trial 34 with value: 17.471562946981773.\n",
      "[I 2024-11-15 11:30:06,204] Trial 46 finished with value: 25.008622801603977 and parameters: {'lambda': 0.34883694489649875, 'alpha': 0.18950347608875442, 'learning_rate': 0.2689415315540729, 'n_estimators': 215, 'max_depth': 7, 'min_child_weight': 4, 'gamma': 0.9129752976060399, 'subsample': 0.8626331949702081, 'colsample_bytree': 0.671905111228644}. Best is trial 34 with value: 17.471562946981773.\n",
      "[I 2024-11-15 11:30:06,265] Trial 47 finished with value: 25.737110234261642 and parameters: {'lambda': 0.6308426673158049, 'alpha': 0.3047185437097706, 'learning_rate': 0.2975057925269508, 'n_estimators': 157, 'max_depth': 8, 'min_child_weight': 9, 'gamma': 0.5324075721963382, 'subsample': 0.8416789236934151, 'colsample_bytree': 0.9378836733400862}. Best is trial 34 with value: 17.471562946981773.\n",
      "[I 2024-11-15 11:30:06,361] Trial 48 finished with value: 25.322567079054906 and parameters: {'lambda': 0.2571245764739649, 'alpha': 0.9291916770595999, 'learning_rate': 0.20993798556738766, 'n_estimators': 382, 'max_depth': 8, 'min_child_weight': 4, 'gamma': 0.9026171101943768, 'subsample': 0.8227960179958032, 'colsample_bytree': 0.559136954680653}. Best is trial 34 with value: 17.471562946981773.\n",
      "[I 2024-11-15 11:30:06,525] Trial 49 finished with value: 28.907011063703056 and parameters: {'lambda': 0.41349332344966533, 'alpha': 0.9864571069542128, 'learning_rate': 0.25368975787252807, 'n_estimators': 664, 'max_depth': 5, 'min_child_weight': 3, 'gamma': 0.3772250526011328, 'subsample': 0.5356922864409257, 'colsample_bytree': 0.8080135021854642}. Best is trial 34 with value: 17.471562946981773.\n",
      "[I 2024-11-15 11:30:06,560] Trial 50 finished with value: 19.418554062460395 and parameters: {'lambda': 0.9711838071888055, 'alpha': 0.052726132288642875, 'learning_rate': 0.2676975415041289, 'n_estimators': 104, 'max_depth': 6, 'min_child_weight': 10, 'gamma': 0.9632079889402929, 'subsample': 0.6501741255786273, 'colsample_bytree': 0.8009855052824925}. Best is trial 34 with value: 17.471562946981773.\n",
      "[I 2024-11-15 11:30:06,774] Trial 51 finished with value: 28.207716147694814 and parameters: {'lambda': 0.8060575828473949, 'alpha': 0.367673547667557, 'learning_rate': 0.2980802030773771, 'n_estimators': 746, 'max_depth': 8, 'min_child_weight': 10, 'gamma': 0.7624688168360834, 'subsample': 0.7064832130346557, 'colsample_bytree': 0.8070442693551163}. Best is trial 34 with value: 17.471562946981773.\n",
      "[I 2024-11-15 11:30:06,868] Trial 52 finished with value: 26.77039097970335 and parameters: {'lambda': 0.12827632635849195, 'alpha': 0.13656125119755483, 'learning_rate': 0.20244992597580938, 'n_estimators': 263, 'max_depth': 7, 'min_child_weight': 3, 'gamma': 0.020654438286481502, 'subsample': 0.8439810986273577, 'colsample_bytree': 0.6196764325413004}. Best is trial 34 with value: 17.471562946981773.\n",
      "[I 2024-11-15 11:30:07,035] Trial 53 finished with value: 19.890805727911587 and parameters: {'lambda': 0.8001884718663638, 'alpha': 0.6959134612895118, 'learning_rate': 0.035942400706330896, 'n_estimators': 629, 'max_depth': 6, 'min_child_weight': 8, 'gamma': 0.7071161424390323, 'subsample': 0.769614895777878, 'colsample_bytree': 0.9761790365820711}. Best is trial 34 with value: 17.471562946981773.\n",
      "[I 2024-11-15 11:30:07,192] Trial 54 finished with value: 21.34134697801532 and parameters: {'lambda': 0.7741382188191818, 'alpha': 0.773250127081276, 'learning_rate': 0.18684798217286427, 'n_estimators': 859, 'max_depth': 3, 'min_child_weight': 5, 'gamma': 0.8382984756910948, 'subsample': 0.5762613553810032, 'colsample_bytree': 0.6660440982139304}. Best is trial 34 with value: 17.471562946981773.\n",
      "[I 2024-11-15 11:30:07,365] Trial 55 finished with value: 28.632822252283855 and parameters: {'lambda': 0.3737105830060095, 'alpha': 0.26531153263704804, 'learning_rate': 0.22033619358977552, 'n_estimators': 538, 'max_depth': 8, 'min_child_weight': 6, 'gamma': 0.025288823772755986, 'subsample': 0.8893726166031886, 'colsample_bytree': 0.6191797030978263}. Best is trial 34 with value: 17.471562946981773.\n",
      "[I 2024-11-15 11:30:07,572] Trial 56 finished with value: 28.035078447113158 and parameters: {'lambda': 0.6518167075857281, 'alpha': 0.17392338082070538, 'learning_rate': 0.2035083613082373, 'n_estimators': 980, 'max_depth': 4, 'min_child_weight': 2, 'gamma': 0.0900223718989025, 'subsample': 0.6136718777233465, 'colsample_bytree': 0.6919705140751964}. Best is trial 34 with value: 17.471562946981773.\n",
      "[I 2024-11-15 11:30:07,885] Trial 57 finished with value: 21.50886557250564 and parameters: {'lambda': 0.6775175615314991, 'alpha': 0.8472684144630492, 'learning_rate': 0.03346240102125215, 'n_estimators': 921, 'max_depth': 10, 'min_child_weight': 10, 'gamma': 0.5446896867601718, 'subsample': 0.8098791077051831, 'colsample_bytree': 0.8154131000226361}. Best is trial 34 with value: 17.471562946981773.\n",
      "[I 2024-11-15 11:30:08,053] Trial 58 finished with value: 24.283019804607754 and parameters: {'lambda': 0.24468234067945593, 'alpha': 0.8858626046276415, 'learning_rate': 0.19360249094650775, 'n_estimators': 950, 'max_depth': 9, 'min_child_weight': 6, 'gamma': 0.9257024488855506, 'subsample': 0.9087481664684018, 'colsample_bytree': 0.9438030096182702}. Best is trial 34 with value: 17.471562946981773.\n",
      "[I 2024-11-15 11:30:08,203] Trial 59 finished with value: 20.48432642019007 and parameters: {'lambda': 0.6642922039318059, 'alpha': 0.6513549641860318, 'learning_rate': 0.07135898329486198, 'n_estimators': 694, 'max_depth': 4, 'min_child_weight': 1, 'gamma': 0.7535048935855085, 'subsample': 0.8935088347317808, 'colsample_bytree': 0.943179750817014}. Best is trial 34 with value: 17.471562946981773.\n",
      "[I 2024-11-15 11:30:08,302] Trial 60 finished with value: 20.913650464620858 and parameters: {'lambda': 0.7353582403028865, 'alpha': 0.9113996200725242, 'learning_rate': 0.16083582436528984, 'n_estimators': 416, 'max_depth': 5, 'min_child_weight': 9, 'gamma': 0.7116806531821959, 'subsample': 0.612536120670752, 'colsample_bytree': 0.613692393221198}. Best is trial 34 with value: 17.471562946981773.\n",
      "[I 2024-11-15 11:30:08,477] Trial 61 finished with value: 23.17595403138395 and parameters: {'lambda': 0.7356414418633034, 'alpha': 0.23060486057249446, 'learning_rate': 0.08951802109889752, 'n_estimators': 571, 'max_depth': 8, 'min_child_weight': 8, 'gamma': 0.7230087717912994, 'subsample': 0.506404377109426, 'colsample_bytree': 0.9331698150196185}. Best is trial 34 with value: 17.471562946981773.\n",
      "[I 2024-11-15 11:30:08,587] Trial 62 finished with value: 23.99366345184696 and parameters: {'lambda': 0.9170749413304622, 'alpha': 0.7379865905309337, 'learning_rate': 0.2567749656411161, 'n_estimators': 549, 'max_depth': 9, 'min_child_weight': 4, 'gamma': 0.6416271464707898, 'subsample': 0.9368710468200216, 'colsample_bytree': 0.9405857847356884}. Best is trial 34 with value: 17.471562946981773.\n",
      "[I 2024-11-15 11:30:08,760] Trial 63 finished with value: 21.182908089565323 and parameters: {'lambda': 0.22587645731190156, 'alpha': 0.3335425453001949, 'learning_rate': 0.05207481154144283, 'n_estimators': 487, 'max_depth': 10, 'min_child_weight': 8, 'gamma': 0.9671979306352451, 'subsample': 0.5476034422802933, 'colsample_bytree': 0.9235870975742716}. Best is trial 34 with value: 17.471562946981773.\n",
      "[I 2024-11-15 11:30:08,927] Trial 64 finished with value: 20.119521952652 and parameters: {'lambda': 0.5711974231283714, 'alpha': 0.8038003532753948, 'learning_rate': 0.06424936185947244, 'n_estimators': 847, 'max_depth': 4, 'min_child_weight': 8, 'gamma': 0.7442348235765089, 'subsample': 0.7942784364522011, 'colsample_bytree': 0.857273346422508}. Best is trial 34 with value: 17.471562946981773.\n",
      "[I 2024-11-15 11:30:09,120] Trial 65 finished with value: 18.226550707560474 and parameters: {'lambda': 0.2663571869729637, 'alpha': 0.7916040664495207, 'learning_rate': 0.019590016027660483, 'n_estimators': 839, 'max_depth': 5, 'min_child_weight': 8, 'gamma': 0.28526162690818857, 'subsample': 0.8647558955662988, 'colsample_bytree': 0.9138370820962844}. Best is trial 34 with value: 17.471562946981773.\n",
      "[I 2024-11-15 11:30:09,160] Trial 66 finished with value: 19.09189947036265 and parameters: {'lambda': 0.7268937044483197, 'alpha': 0.8177913872177279, 'learning_rate': 0.14012556874424884, 'n_estimators': 103, 'max_depth': 9, 'min_child_weight': 6, 'gamma': 0.7672047706006118, 'subsample': 0.9651951496829537, 'colsample_bytree': 0.699555663084812}. Best is trial 34 with value: 17.471562946981773.\n",
      "[I 2024-11-15 11:30:09,349] Trial 67 finished with value: 24.808082439024215 and parameters: {'lambda': 0.38579238370839414, 'alpha': 0.8554317997580715, 'learning_rate': 0.19384858909943245, 'n_estimators': 966, 'max_depth': 4, 'min_child_weight': 9, 'gamma': 0.5082911242740598, 'subsample': 0.8573390579427724, 'colsample_bytree': 0.654290619956261}. Best is trial 34 with value: 17.471562946981773.\n",
      "[I 2024-11-15 11:30:09,445] Trial 68 finished with value: 25.588587710431447 and parameters: {'lambda': 0.8014983804643893, 'alpha': 0.45634250109712404, 'learning_rate': 0.2405814851982346, 'n_estimators': 256, 'max_depth': 10, 'min_child_weight': 6, 'gamma': 0.287794778987854, 'subsample': 0.6489016050721148, 'colsample_bytree': 0.9388456456762224}. Best is trial 34 with value: 17.471562946981773.\n",
      "[I 2024-11-15 11:30:09,516] Trial 69 finished with value: 24.673433456556506 and parameters: {'lambda': 0.7550120902754895, 'alpha': 0.6481545833616825, 'learning_rate': 0.29476081350106553, 'n_estimators': 251, 'max_depth': 6, 'min_child_weight': 8, 'gamma': 0.6340784299805508, 'subsample': 0.8579231409053698, 'colsample_bytree': 0.6721644805430376}. Best is trial 34 with value: 17.471562946981773.\n",
      "[I 2024-11-15 11:30:09,730] Trial 70 finished with value: 17.840299193667 and parameters: {'lambda': 0.31393413017264543, 'alpha': 0.1599355266829751, 'learning_rate': 0.012960563096343893, 'n_estimators': 759, 'max_depth': 9, 'min_child_weight': 10, 'gamma': 0.9208381490071772, 'subsample': 0.5565740030304251, 'colsample_bytree': 0.5218016998894135}. Best is trial 34 with value: 17.471562946981773.\n",
      "[I 2024-11-15 11:30:09,963] Trial 71 finished with value: 26.38080392367366 and parameters: {'lambda': 0.13776548867744282, 'alpha': 0.8717687062219521, 'learning_rate': 0.12688730315478589, 'n_estimators': 903, 'max_depth': 6, 'min_child_weight': 8, 'gamma': 0.07657284671205777, 'subsample': 0.749562253929801, 'colsample_bytree': 0.679002962303525}. Best is trial 34 with value: 17.471562946981773.\n",
      "[I 2024-11-15 11:30:10,015] Trial 72 finished with value: 16.97158805351784 and parameters: {'lambda': 0.5990773298171211, 'alpha': 0.7980776091664455, 'learning_rate': 0.033611778792961795, 'n_estimators': 206, 'max_depth': 4, 'min_child_weight': 8, 'gamma': 0.6336619274659365, 'subsample': 0.7979904691182926, 'colsample_bytree': 0.9561231272018171}. Best is trial 72 with value: 16.97158805351784.\n",
      "[I 2024-11-15 11:30:10,107] Trial 73 finished with value: 19.61371785356138 and parameters: {'lambda': 0.35396201628709006, 'alpha': 0.16469170958220766, 'learning_rate': 0.21363371445908808, 'n_estimators': 519, 'max_depth': 3, 'min_child_weight': 9, 'gamma': 0.9978002090675908, 'subsample': 0.815819893459488, 'colsample_bytree': 0.6127036359614662}. Best is trial 72 with value: 16.97158805351784.\n",
      "[I 2024-11-15 11:30:10,198] Trial 74 finished with value: 24.69897447099134 and parameters: {'lambda': 0.22350907331928016, 'alpha': 0.7961510052773387, 'learning_rate': 0.18850296345583475, 'n_estimators': 229, 'max_depth': 9, 'min_child_weight': 7, 'gamma': 0.3789412276733356, 'subsample': 0.6971657295454281, 'colsample_bytree': 0.890850053465907}. Best is trial 72 with value: 16.97158805351784.\n",
      "[I 2024-11-15 11:30:10,399] Trial 75 finished with value: 26.71943032362808 and parameters: {'lambda': 0.4908352040567307, 'alpha': 0.5531417246674911, 'learning_rate': 0.21913309839535186, 'n_estimators': 887, 'max_depth': 4, 'min_child_weight': 3, 'gamma': 0.7019244020821294, 'subsample': 0.8636630461019668, 'colsample_bytree': 0.9828049419667596}. Best is trial 72 with value: 16.97158805351784.\n",
      "[I 2024-11-15 11:30:10,495] Trial 76 finished with value: 17.158844469790903 and parameters: {'lambda': 0.6320225755451442, 'alpha': 0.7055688642891164, 'learning_rate': 0.08625122403914123, 'n_estimators': 443, 'max_depth': 3, 'min_child_weight': 9, 'gamma': 0.8898816303259726, 'subsample': 0.8753307287111958, 'colsample_bytree': 0.7295663552734077}. Best is trial 72 with value: 16.97158805351784.\n",
      "[I 2024-11-15 11:30:10,721] Trial 77 finished with value: 22.131987912262257 and parameters: {'lambda': 0.13078811126762344, 'alpha': 0.9263763067681825, 'learning_rate': 0.05619909075409817, 'n_estimators': 625, 'max_depth': 7, 'min_child_weight': 7, 'gamma': 0.9566894786182315, 'subsample': 0.7961254173656995, 'colsample_bytree': 0.9319312651752398}. Best is trial 72 with value: 16.97158805351784.\n",
      "[I 2024-11-15 11:30:10,909] Trial 78 finished with value: 22.547584972802724 and parameters: {'lambda': 0.8222291374487067, 'alpha': 0.20572080232321546, 'learning_rate': 0.18691926678166199, 'n_estimators': 639, 'max_depth': 3, 'min_child_weight': 1, 'gamma': 0.7241462424246563, 'subsample': 0.5257090782756525, 'colsample_bytree': 0.8952484761901423}. Best is trial 72 with value: 16.97158805351784.\n",
      "[I 2024-11-15 11:30:11,123] Trial 79 finished with value: 25.69747284109506 and parameters: {'lambda': 0.6228312582252988, 'alpha': 0.5668829105879181, 'learning_rate': 0.18652303047956587, 'n_estimators': 755, 'max_depth': 4, 'min_child_weight': 2, 'gamma': 0.04737350061570078, 'subsample': 0.503728628855298, 'colsample_bytree': 0.887203020589381}. Best is trial 72 with value: 16.97158805351784.\n",
      "[I 2024-11-15 11:30:11,302] Trial 80 finished with value: 16.947875257790045 and parameters: {'lambda': 0.7315527139478631, 'alpha': 0.679028597505913, 'learning_rate': 0.0348865953225718, 'n_estimators': 981, 'max_depth': 3, 'min_child_weight': 8, 'gamma': 0.022500000145906363, 'subsample': 0.7807054995752083, 'colsample_bytree': 0.5962693706215735}. Best is trial 80 with value: 16.947875257790045.\n",
      "[I 2024-11-15 11:30:11,475] Trial 81 finished with value: 24.500572437688433 and parameters: {'lambda': 0.1117440791056699, 'alpha': 0.398907450187856, 'learning_rate': 0.1996485913441405, 'n_estimators': 644, 'max_depth': 10, 'min_child_weight': 1, 'gamma': 0.2243591994709111, 'subsample': 0.8638570926987184, 'colsample_bytree': 0.8314994969009186}. Best is trial 80 with value: 16.947875257790045.\n",
      "[I 2024-11-15 11:30:11,622] Trial 82 finished with value: 19.039861933359557 and parameters: {'lambda': 0.3010511478831319, 'alpha': 0.4250392821983566, 'learning_rate': 0.10251619478598786, 'n_estimators': 782, 'max_depth': 3, 'min_child_weight': 9, 'gamma': 0.6962357257815557, 'subsample': 0.7945913227519348, 'colsample_bytree': 0.6652194295326561}. Best is trial 80 with value: 16.947875257790045.\n",
      "[I 2024-11-15 11:30:11,745] Trial 83 finished with value: 23.08757477596434 and parameters: {'lambda': 0.12345182764811288, 'alpha': 0.5948818333877869, 'learning_rate': 0.15756284556813252, 'n_estimators': 531, 'max_depth': 5, 'min_child_weight': 9, 'gamma': 0.8713510360103811, 'subsample': 0.6455192108467627, 'colsample_bytree': 0.7327946320174421}. Best is trial 80 with value: 16.947875257790045.\n",
      "[I 2024-11-15 11:30:11,968] Trial 84 finished with value: 22.014767651793132 and parameters: {'lambda': 0.5265783783943703, 'alpha': 0.07436273842435565, 'learning_rate': 0.07046572819139955, 'n_estimators': 803, 'max_depth': 7, 'min_child_weight': 6, 'gamma': 0.12405774904502331, 'subsample': 0.5286868167277389, 'colsample_bytree': 0.6029540503873647}. Best is trial 80 with value: 16.947875257790045.\n",
      "[I 2024-11-15 11:30:12,118] Trial 85 finished with value: 19.996329301011315 and parameters: {'lambda': 0.5791927871357159, 'alpha': 0.8282766911149096, 'learning_rate': 0.10177586549113068, 'n_estimators': 854, 'max_depth': 4, 'min_child_weight': 9, 'gamma': 0.7242492746575528, 'subsample': 0.9583154477700584, 'colsample_bytree': 0.6584734895937414}. Best is trial 80 with value: 16.947875257790045.\n",
      "[I 2024-11-15 11:30:12,150] Trial 86 finished with value: 19.94635215095977 and parameters: {'lambda': 0.8989475132543414, 'alpha': 0.4431010244589714, 'learning_rate': 0.21795956228325766, 'n_estimators': 152, 'max_depth': 3, 'min_child_weight': 3, 'gamma': 0.5558268424308379, 'subsample': 0.6268232438764678, 'colsample_bytree': 0.7558036191001435}. Best is trial 80 with value: 16.947875257790045.\n",
      "[I 2024-11-15 11:30:12,324] Trial 87 finished with value: 21.970585802164848 and parameters: {'lambda': 0.5102998347110351, 'alpha': 0.2742986529168856, 'learning_rate': 0.09616422375985013, 'n_estimators': 746, 'max_depth': 8, 'min_child_weight': 7, 'gamma': 0.5474638567244934, 'subsample': 0.965038181610659, 'colsample_bytree': 0.9092375138795559}. Best is trial 80 with value: 16.947875257790045.\n",
      "[I 2024-11-15 11:30:12,591] Trial 88 finished with value: 20.65088824389256 and parameters: {'lambda': 0.47312360060196573, 'alpha': 0.32995115306337797, 'learning_rate': 0.03398383808419465, 'n_estimators': 875, 'max_depth': 10, 'min_child_weight': 7, 'gamma': 0.8578103286910933, 'subsample': 0.5954934168698999, 'colsample_bytree': 0.5799393440027547}. Best is trial 80 with value: 16.947875257790045.\n",
      "[I 2024-11-15 11:30:12,770] Trial 89 finished with value: 24.80705383841301 and parameters: {'lambda': 0.9548357572223957, 'alpha': 0.4855319240546278, 'learning_rate': 0.2514137100299144, 'n_estimators': 734, 'max_depth': 9, 'min_child_weight': 4, 'gamma': 0.9169102267672439, 'subsample': 0.9371635976750591, 'colsample_bytree': 0.5866849372041447}. Best is trial 80 with value: 16.947875257790045.\n",
      "[I 2024-11-15 11:30:12,897] Trial 90 finished with value: 24.909428527683428 and parameters: {'lambda': 0.9136052226723786, 'alpha': 0.13887167446426604, 'learning_rate': 0.24481790829893268, 'n_estimators': 613, 'max_depth': 4, 'min_child_weight': 3, 'gamma': 0.1103578679379491, 'subsample': 0.6966837719513314, 'colsample_bytree': 0.5341560391668616}. Best is trial 80 with value: 16.947875257790045.\n",
      "[I 2024-11-15 11:30:13,034] Trial 91 finished with value: 25.164859996757187 and parameters: {'lambda': 0.929460124479669, 'alpha': 0.21244661245301502, 'learning_rate': 0.2220533086261058, 'n_estimators': 494, 'max_depth': 7, 'min_child_weight': 2, 'gamma': 0.1052744938067608, 'subsample': 0.9172469350625572, 'colsample_bytree': 0.7179247549359424}. Best is trial 80 with value: 16.947875257790045.\n",
      "[I 2024-11-15 11:30:13,190] Trial 92 finished with value: 18.178446879770433 and parameters: {'lambda': 0.558341477635989, 'alpha': 0.9137895441990302, 'learning_rate': 0.08451775461945762, 'n_estimators': 910, 'max_depth': 3, 'min_child_weight': 8, 'gamma': 0.07715075666555926, 'subsample': 0.732490066353563, 'colsample_bytree': 0.5357691521698569}. Best is trial 80 with value: 16.947875257790045.\n",
      "[I 2024-11-15 11:30:13,333] Trial 93 finished with value: 22.342189835129084 and parameters: {'lambda': 0.6701031778135723, 'alpha': 0.10132999856661513, 'learning_rate': 0.15122762243721685, 'n_estimators': 448, 'max_depth': 8, 'min_child_weight': 8, 'gamma': 0.06967113355280774, 'subsample': 0.589354664314709, 'colsample_bytree': 0.59641458251024}. Best is trial 80 with value: 16.947875257790045.\n",
      "[I 2024-11-15 11:30:13,448] Trial 94 finished with value: 16.526199944402432 and parameters: {'lambda': 0.7776946242221539, 'alpha': 0.4553279819096448, 'learning_rate': 0.02390507472130109, 'n_estimators': 621, 'max_depth': 3, 'min_child_weight': 8, 'gamma': 0.1378095176970795, 'subsample': 0.7800693697922976, 'colsample_bytree': 0.6487508258936652}. Best is trial 94 with value: 16.526199944402432.\n",
      "[I 2024-11-15 11:30:13,569] Trial 95 finished with value: 25.050806208282683 and parameters: {'lambda': 0.6696383778560528, 'alpha': 0.675315168708212, 'learning_rate': 0.1672050136821597, 'n_estimators': 346, 'max_depth': 9, 'min_child_weight': 6, 'gamma': 0.5874740998182001, 'subsample': 0.6091266495962466, 'colsample_bytree': 0.8300329061277479}. Best is trial 94 with value: 16.526199944402432.\n",
      "[I 2024-11-15 11:30:13,836] Trial 96 finished with value: 26.738982293088643 and parameters: {'lambda': 0.2598700326780348, 'alpha': 0.9145610200116329, 'learning_rate': 0.12926527784710423, 'n_estimators': 842, 'max_depth': 9, 'min_child_weight': 8, 'gamma': 0.2314635844910372, 'subsample': 0.7881554509716454, 'colsample_bytree': 0.9339065497554211}. Best is trial 94 with value: 16.526199944402432.\n",
      "[I 2024-11-15 11:30:14,045] Trial 97 finished with value: 27.920915474508902 and parameters: {'lambda': 0.5159553142648146, 'alpha': 0.49012469288415417, 'learning_rate': 0.21437726522539585, 'n_estimators': 685, 'max_depth': 8, 'min_child_weight': 10, 'gamma': 0.10825798041091039, 'subsample': 0.7175986699946251, 'colsample_bytree': 0.8543170764608945}. Best is trial 94 with value: 16.526199944402432.\n",
      "[I 2024-11-15 11:30:14,189] Trial 98 finished with value: 29.06045071168676 and parameters: {'lambda': 0.5063270953629481, 'alpha': 0.7772208005134468, 'learning_rate': 0.2269421466753497, 'n_estimators': 568, 'max_depth': 7, 'min_child_weight': 4, 'gamma': 0.5703214163524974, 'subsample': 0.6329657203476075, 'colsample_bytree': 0.5873521137835225}. Best is trial 94 with value: 16.526199944402432.\n",
      "[I 2024-11-15 11:30:14,274] Trial 99 finished with value: 26.310470009616925 and parameters: {'lambda': 0.6556788928327175, 'alpha': 0.3633120739758227, 'learning_rate': 0.23224035102968008, 'n_estimators': 252, 'max_depth': 6, 'min_child_weight': 2, 'gamma': 0.09990917871679639, 'subsample': 0.785910582753991, 'colsample_bytree': 0.8263664711048391}. Best is trial 94 with value: 16.526199944402432.\n",
      "[I 2024-11-15 11:30:14,374] Trial 100 finished with value: 19.106692049678724 and parameters: {'lambda': 0.32631714316161736, 'alpha': 0.9562670811509683, 'learning_rate': 0.06529173865283794, 'n_estimators': 493, 'max_depth': 4, 'min_child_weight': 3, 'gamma': 0.8192490069285494, 'subsample': 0.5608622944496428, 'colsample_bytree': 0.6277243234360266}. Best is trial 94 with value: 16.526199944402432.\n",
      "[I 2024-11-15 11:30:14,515] Trial 101 finished with value: 29.14992944252163 and parameters: {'lambda': 0.669475785846443, 'alpha': 0.262973006866788, 'learning_rate': 0.28310613916036464, 'n_estimators': 626, 'max_depth': 5, 'min_child_weight': 4, 'gamma': 0.7962926196131863, 'subsample': 0.7160421195392583, 'colsample_bytree': 0.6737392107586131}. Best is trial 94 with value: 16.526199944402432.\n",
      "[I 2024-11-15 11:30:14,743] Trial 102 finished with value: 30.06790528096003 and parameters: {'lambda': 0.020825846304000813, 'alpha': 0.9090004730517204, 'learning_rate': 0.27764548713523296, 'n_estimators': 810, 'max_depth': 7, 'min_child_weight': 7, 'gamma': 0.39380629869407835, 'subsample': 0.5037106524940611, 'colsample_bytree': 0.5305550186306669}. Best is trial 94 with value: 16.526199944402432.\n",
      "[I 2024-11-15 11:30:15,053] Trial 103 finished with value: 25.038109295159895 and parameters: {'lambda': 0.5729316820229411, 'alpha': 0.08348715213813915, 'learning_rate': 0.13545755821952568, 'n_estimators': 958, 'max_depth': 10, 'min_child_weight': 8, 'gamma': 0.9347112247481745, 'subsample': 0.5112929911323252, 'colsample_bytree': 0.5877913162663644}. Best is trial 94 with value: 16.526199944402432.\n",
      "[I 2024-11-15 11:30:15,265] Trial 104 finished with value: 19.223565875467063 and parameters: {'lambda': 0.37556987218830784, 'alpha': 0.5030225073166623, 'learning_rate': 0.022447467293154368, 'n_estimators': 749, 'max_depth': 5, 'min_child_weight': 1, 'gamma': 0.05240089797264824, 'subsample': 0.992773202555155, 'colsample_bytree': 0.6722166448750566}. Best is trial 94 with value: 16.526199944402432.\n",
      "[I 2024-11-15 11:30:15,397] Trial 105 finished with value: 24.818174753679877 and parameters: {'lambda': 0.5986679274380363, 'alpha': 0.2872800131955823, 'learning_rate': 0.16983988227522331, 'n_estimators': 602, 'max_depth': 4, 'min_child_weight': 2, 'gamma': 0.37106556160507764, 'subsample': 0.8154620657177756, 'colsample_bytree': 0.8540701184674899}. Best is trial 94 with value: 16.526199944402432.\n",
      "[I 2024-11-15 11:30:15,557] Trial 106 finished with value: 25.202023735022138 and parameters: {'lambda': 0.36732555344487283, 'alpha': 0.654416148618141, 'learning_rate': 0.15987229573372233, 'n_estimators': 726, 'max_depth': 5, 'min_child_weight': 9, 'gamma': 0.6871331636636849, 'subsample': 0.9024888532255556, 'colsample_bytree': 0.9607761597186266}. Best is trial 94 with value: 16.526199944402432.\n",
      "[I 2024-11-15 11:30:15,680] Trial 107 finished with value: 17.733532206792272 and parameters: {'lambda': 0.5908701330110214, 'alpha': 0.6999223701451195, 'learning_rate': 0.04850802322319388, 'n_estimators': 682, 'max_depth': 3, 'min_child_weight': 1, 'gamma': 0.8913353344107792, 'subsample': 0.8155585912355566, 'colsample_bytree': 0.5898628654444724}. Best is trial 94 with value: 16.526199944402432.\n",
      "[I 2024-11-15 11:30:15,719] Trial 108 finished with value: 20.317294787886127 and parameters: {'lambda': 0.36830248254846987, 'alpha': 0.8325504086001815, 'learning_rate': 0.23697738628003537, 'n_estimators': 126, 'max_depth': 5, 'min_child_weight': 10, 'gamma': 0.1857347077278393, 'subsample': 0.7297808260447616, 'colsample_bytree': 0.9747335278101117}. Best is trial 94 with value: 16.526199944402432.\n",
      "[I 2024-11-15 11:30:15,797] Trial 109 finished with value: 17.643841500607575 and parameters: {'lambda': 0.7433190258925326, 'alpha': 0.7932716997491934, 'learning_rate': 0.03456636576177265, 'n_estimators': 296, 'max_depth': 5, 'min_child_weight': 3, 'gamma': 0.27952254230540785, 'subsample': 0.7476244264833691, 'colsample_bytree': 0.5381194902132458}. Best is trial 94 with value: 16.526199944402432.\n",
      "[I 2024-11-15 11:30:16,061] Trial 110 finished with value: 20.700650578484055 and parameters: {'lambda': 0.7868477890673423, 'alpha': 0.24807892975684584, 'learning_rate': 0.09379531131133528, 'n_estimators': 841, 'max_depth': 3, 'min_child_weight': 5, 'gamma': 0.3294694678655903, 'subsample': 0.9234368208310405, 'colsample_bytree': 0.7669147924470203}. Best is trial 94 with value: 16.526199944402432.\n",
      "[I 2024-11-15 11:30:16,356] Trial 111 finished with value: 20.64230737214093 and parameters: {'lambda': 0.09337199254961562, 'alpha': 0.756570469707561, 'learning_rate': 0.018261159963207763, 'n_estimators': 657, 'max_depth': 9, 'min_child_weight': 1, 'gamma': 0.6005848080988044, 'subsample': 0.588826457075242, 'colsample_bytree': 0.8393307341123439}. Best is trial 94 with value: 16.526199944402432.\n",
      "[I 2024-11-15 11:30:16,457] Trial 112 finished with value: 17.277349405423955 and parameters: {'lambda': 0.4389806275190247, 'alpha': 0.5470518088816596, 'learning_rate': 0.0338545909282172, 'n_estimators': 588, 'max_depth': 3, 'min_child_weight': 7, 'gamma': 0.9380988936411391, 'subsample': 0.9582982145265215, 'colsample_bytree': 0.7517389749947998}. Best is trial 94 with value: 16.526199944402432.\n",
      "[I 2024-11-15 11:30:16,653] Trial 113 finished with value: 26.24485754152943 and parameters: {'lambda': 0.09722604426264611, 'alpha': 0.3294108399539975, 'learning_rate': 0.1409527309353508, 'n_estimators': 841, 'max_depth': 5, 'min_child_weight': 7, 'gamma': 0.926352826784048, 'subsample': 0.6500137962604924, 'colsample_bytree': 0.888225606334329}. Best is trial 94 with value: 16.526199944402432.\n",
      "[I 2024-11-15 11:30:16,834] Trial 114 finished with value: 28.03770316199738 and parameters: {'lambda': 0.602841591331261, 'alpha': 0.32228010084783903, 'learning_rate': 0.2820181538717852, 'n_estimators': 524, 'max_depth': 9, 'min_child_weight': 9, 'gamma': 0.037563433054290774, 'subsample': 0.7886817576876124, 'colsample_bytree': 0.956116344054205}. Best is trial 94 with value: 16.526199944402432.\n",
      "[I 2024-11-15 11:30:16,931] Trial 115 finished with value: 19.630259917567233 and parameters: {'lambda': 0.3369726803713313, 'alpha': 0.6774993074508965, 'learning_rate': 0.09174826499611616, 'n_estimators': 497, 'max_depth': 6, 'min_child_weight': 9, 'gamma': 0.9692647811222269, 'subsample': 0.9722244325580772, 'colsample_bytree': 0.9232263982005733}. Best is trial 94 with value: 16.526199944402432.\n",
      "[I 2024-11-15 11:30:17,079] Trial 116 finished with value: 23.709773358267118 and parameters: {'lambda': 0.22284981966691778, 'alpha': 0.04245323570412806, 'learning_rate': 0.23601963919171187, 'n_estimators': 902, 'max_depth': 9, 'min_child_weight': 6, 'gamma': 0.33562976348239815, 'subsample': 0.981545204292466, 'colsample_bytree': 0.5467431464764416}. Best is trial 94 with value: 16.526199944402432.\n",
      "[I 2024-11-15 11:30:17,288] Trial 117 finished with value: 21.974146345562144 and parameters: {'lambda': 0.33178831256264724, 'alpha': 0.8223837011189099, 'learning_rate': 0.0398501069013386, 'n_estimators': 762, 'max_depth': 6, 'min_child_weight': 1, 'gamma': 0.3920794558217935, 'subsample': 0.7213803256339011, 'colsample_bytree': 0.5722467660773901}. Best is trial 94 with value: 16.526199944402432.\n",
      "[I 2024-11-15 11:30:17,326] Trial 118 finished with value: 17.545740942904605 and parameters: {'lambda': 0.7279335382220203, 'alpha': 0.6645285158069966, 'learning_rate': 0.10670635404837008, 'n_estimators': 116, 'max_depth': 5, 'min_child_weight': 9, 'gamma': 0.6459456363417547, 'subsample': 0.9933840495046518, 'colsample_bytree': 0.97930481230645}. Best is trial 94 with value: 16.526199944402432.\n",
      "[I 2024-11-15 11:30:17,596] Trial 119 finished with value: 28.443002599098193 and parameters: {'lambda': 0.09617650034062411, 'alpha': 0.7529390403387864, 'learning_rate': 0.26671638658960606, 'n_estimators': 915, 'max_depth': 5, 'min_child_weight': 1, 'gamma': 0.2918341239038458, 'subsample': 0.6533499650425643, 'colsample_bytree': 0.7518630462376708}. Best is trial 94 with value: 16.526199944402432.\n",
      "[I 2024-11-15 11:30:17,776] Trial 120 finished with value: 27.56005097100173 and parameters: {'lambda': 0.31599532894371185, 'alpha': 0.09832851321839772, 'learning_rate': 0.2963899323727704, 'n_estimators': 792, 'max_depth': 6, 'min_child_weight': 4, 'gamma': 0.626666330893512, 'subsample': 0.8962527635567102, 'colsample_bytree': 0.9187062197705669}. Best is trial 94 with value: 16.526199944402432.\n",
      "[I 2024-11-15 11:30:17,932] Trial 121 finished with value: 25.03419162343062 and parameters: {'lambda': 0.6983596704817747, 'alpha': 0.9297665529117245, 'learning_rate': 0.20542212186095313, 'n_estimators': 578, 'max_depth': 5, 'min_child_weight': 4, 'gamma': 0.7591388053525701, 'subsample': 0.914284424194681, 'colsample_bytree': 0.7196660809257841}. Best is trial 94 with value: 16.526199944402432.\n",
      "[I 2024-11-15 11:30:18,115] Trial 122 finished with value: 22.508265863887363 and parameters: {'lambda': 0.7620074078164164, 'alpha': 0.016775385071752705, 'learning_rate': 0.1794367271787568, 'n_estimators': 897, 'max_depth': 3, 'min_child_weight': 8, 'gamma': 0.19180240800274195, 'subsample': 0.9667506537790052, 'colsample_bytree': 0.9132236601034478}. Best is trial 94 with value: 16.526199944402432.\n",
      "[I 2024-11-15 11:30:18,347] Trial 123 finished with value: 29.65527023934879 and parameters: {'lambda': 0.40960317426287957, 'alpha': 0.9846443734308243, 'learning_rate': 0.21172361504335313, 'n_estimators': 661, 'max_depth': 10, 'min_child_weight': 4, 'gamma': 0.2098216899070443, 'subsample': 0.6176861780561522, 'colsample_bytree': 0.7283254874578013}. Best is trial 94 with value: 16.526199944402432.\n",
      "[I 2024-11-15 11:30:18,442] Trial 124 finished with value: 18.553208138155586 and parameters: {'lambda': 0.7460279443478707, 'alpha': 0.7998373963283696, 'learning_rate': 0.04430848855196718, 'n_estimators': 319, 'max_depth': 7, 'min_child_weight': 7, 'gamma': 0.6669473586273946, 'subsample': 0.7112439746818038, 'colsample_bytree': 0.5309159228416479}. Best is trial 94 with value: 16.526199944402432.\n",
      "[I 2024-11-15 11:30:18,644] Trial 125 finished with value: 20.458430143746494 and parameters: {'lambda': 0.5902354974615167, 'alpha': 0.6754035315346119, 'learning_rate': 0.04285706429358571, 'n_estimators': 977, 'max_depth': 4, 'min_child_weight': 2, 'gamma': 0.7789379575371884, 'subsample': 0.8859896228081328, 'colsample_bytree': 0.782470026492488}. Best is trial 94 with value: 16.526199944402432.\n",
      "[I 2024-11-15 11:30:18,761] Trial 126 finished with value: 20.92560165677408 and parameters: {'lambda': 0.5618672180683402, 'alpha': 0.29670790551310017, 'learning_rate': 0.16238818979456093, 'n_estimators': 636, 'max_depth': 3, 'min_child_weight': 5, 'gamma': 0.7883030180446583, 'subsample': 0.6657218110628522, 'colsample_bytree': 0.651817405900632}. Best is trial 94 with value: 16.526199944402432.\n",
      "[I 2024-11-15 11:30:18,885] Trial 127 finished with value: 22.0781141961106 and parameters: {'lambda': 0.32141530522577616, 'alpha': 0.3884730952968706, 'learning_rate': 0.21887472014463494, 'n_estimators': 385, 'max_depth': 5, 'min_child_weight': 10, 'gamma': 0.31388723593959966, 'subsample': 0.5824961470286885, 'colsample_bytree': 0.5676517796862386}. Best is trial 94 with value: 16.526199944402432.\n",
      "[I 2024-11-15 11:30:19,156] Trial 128 finished with value: 27.137720554676324 and parameters: {'lambda': 0.9210495193201688, 'alpha': 0.11337013712253426, 'learning_rate': 0.1648737201812227, 'n_estimators': 770, 'max_depth': 7, 'min_child_weight': 8, 'gamma': 0.6890808251263545, 'subsample': 0.696162319659904, 'colsample_bytree': 0.6718095054104924}. Best is trial 94 with value: 16.526199944402432.\n",
      "[I 2024-11-15 11:30:19,238] Trial 129 finished with value: 19.913125416426766 and parameters: {'lambda': 0.23378026744120342, 'alpha': 0.04104524371124647, 'learning_rate': 0.030255562859916284, 'n_estimators': 112, 'max_depth': 10, 'min_child_weight': 3, 'gamma': 0.3787371605038309, 'subsample': 0.5733820074833267, 'colsample_bytree': 0.9657927555937009}. Best is trial 94 with value: 16.526199944402432.\n",
      "[I 2024-11-15 11:30:19,905] Trial 130 finished with value: 26.490911793663788 and parameters: {'lambda': 0.03576174594606253, 'alpha': 0.44250556638246435, 'learning_rate': 0.13852610002691973, 'n_estimators': 850, 'max_depth': 10, 'min_child_weight': 1, 'gamma': 0.5955416290174267, 'subsample': 0.5351506106901166, 'colsample_bytree': 0.7316675214789228}. Best is trial 94 with value: 16.526199944402432.\n",
      "[I 2024-11-15 11:30:20,205] Trial 131 finished with value: 25.350822662515565 and parameters: {'lambda': 0.1912678762669958, 'alpha': 0.5089158785533374, 'learning_rate': 0.19144248838316333, 'n_estimators': 297, 'max_depth': 7, 'min_child_weight': 8, 'gamma': 0.19866125780982158, 'subsample': 0.8330302823045188, 'colsample_bytree': 0.9349446652739344}. Best is trial 94 with value: 16.526199944402432.\n",
      "[I 2024-11-15 11:30:20,309] Trial 132 finished with value: 19.24283624484097 and parameters: {'lambda': 0.14507766414594458, 'alpha': 0.35511465128181885, 'learning_rate': 0.09580807718491151, 'n_estimators': 338, 'max_depth': 4, 'min_child_weight': 8, 'gamma': 0.7978203535864313, 'subsample': 0.6165332294643582, 'colsample_bytree': 0.6879722623086368}. Best is trial 94 with value: 16.526199944402432.\n",
      "[I 2024-11-15 11:30:20,495] Trial 133 finished with value: 21.468291228872534 and parameters: {'lambda': 0.18564124249424024, 'alpha': 0.11251583197271423, 'learning_rate': 0.09302465016370831, 'n_estimators': 684, 'max_depth': 5, 'min_child_weight': 10, 'gamma': 0.1188605220840584, 'subsample': 0.9568514296156589, 'colsample_bytree': 0.6702413005489112}. Best is trial 94 with value: 16.526199944402432.\n",
      "[I 2024-11-15 11:30:20,749] Trial 134 finished with value: 23.771859649726874 and parameters: {'lambda': 0.2174367726838141, 'alpha': 0.9585860133681358, 'learning_rate': 0.1388276871732931, 'n_estimators': 764, 'max_depth': 5, 'min_child_weight': 10, 'gamma': 0.2507182866880382, 'subsample': 0.5577977202342834, 'colsample_bytree': 0.9955089634122118}. Best is trial 94 with value: 16.526199944402432.\n",
      "[I 2024-11-15 11:30:20,943] Trial 135 finished with value: 27.066376709908255 and parameters: {'lambda': 0.7201390708668226, 'alpha': 0.32811383762948365, 'learning_rate': 0.26535596595663524, 'n_estimators': 499, 'max_depth': 6, 'min_child_weight': 6, 'gamma': 0.007941445383372048, 'subsample': 0.5598653944445029, 'colsample_bytree': 0.5259410285978139}. Best is trial 94 with value: 16.526199944402432.\n",
      "[I 2024-11-15 11:30:21,295] Trial 136 finished with value: 23.858203243513785 and parameters: {'lambda': 0.4655731113808866, 'alpha': 0.6362360981842883, 'learning_rate': 0.219854866218681, 'n_estimators': 700, 'max_depth': 6, 'min_child_weight': 8, 'gamma': 0.5086859308249946, 'subsample': 0.9518441423954082, 'colsample_bytree': 0.7890739013391312}. Best is trial 94 with value: 16.526199944402432.\n",
      "[I 2024-11-15 11:30:21,550] Trial 137 finished with value: 21.73105468572842 and parameters: {'lambda': 0.9480991899223967, 'alpha': 0.1455663975568417, 'learning_rate': 0.2862568924110104, 'n_estimators': 495, 'max_depth': 4, 'min_child_weight': 7, 'gamma': 0.5226820230482475, 'subsample': 0.9842551304334504, 'colsample_bytree': 0.525538965942566}. Best is trial 94 with value: 16.526199944402432.\n",
      "[I 2024-11-15 11:30:21,860] Trial 138 finished with value: 24.735852213266252 and parameters: {'lambda': 0.22153291809064143, 'alpha': 0.8146767129493718, 'learning_rate': 0.16811604642812242, 'n_estimators': 267, 'max_depth': 9, 'min_child_weight': 1, 'gamma': 0.2110559522242793, 'subsample': 0.6005312578321799, 'colsample_bytree': 0.8112165525219761}. Best is trial 94 with value: 16.526199944402432.\n",
      "[I 2024-11-15 11:30:22,184] Trial 139 finished with value: 22.496361191205583 and parameters: {'lambda': 0.12047087688876924, 'alpha': 0.1901654193869578, 'learning_rate': 0.08796903222883062, 'n_estimators': 870, 'max_depth': 5, 'min_child_weight': 7, 'gamma': 0.17479580591168242, 'subsample': 0.638797001334069, 'colsample_bytree': 0.5023979661369824}. Best is trial 94 with value: 16.526199944402432.\n",
      "[I 2024-11-15 11:30:22,316] Trial 140 finished with value: 22.355180027976722 and parameters: {'lambda': 0.06356473455349605, 'alpha': 0.9217413819343727, 'learning_rate': 0.10985571767006215, 'n_estimators': 490, 'max_depth': 10, 'min_child_weight': 3, 'gamma': 0.8508116345258162, 'subsample': 0.9402829101602119, 'colsample_bytree': 0.8486232689008917}. Best is trial 94 with value: 16.526199944402432.\n",
      "[I 2024-11-15 11:30:22,494] Trial 141 finished with value: 25.177117099468525 and parameters: {'lambda': 0.7386628155575997, 'alpha': 0.8533295176424779, 'learning_rate': 0.18299676199218093, 'n_estimators': 456, 'max_depth': 10, 'min_child_weight': 8, 'gamma': 0.41201606803600654, 'subsample': 0.7036716061282681, 'colsample_bytree': 0.6715692736801592}. Best is trial 94 with value: 16.526199944402432.\n",
      "[I 2024-11-15 11:30:22,808] Trial 142 finished with value: 26.82868700506128 and parameters: {'lambda': 0.18006408436127422, 'alpha': 0.04249875385019785, 'learning_rate': 0.18517310521111943, 'n_estimators': 916, 'max_depth': 10, 'min_child_weight': 6, 'gamma': 0.9365634748302456, 'subsample': 0.5336562838340413, 'colsample_bytree': 0.8698144542812246}. Best is trial 94 with value: 16.526199944402432.\n",
      "[I 2024-11-15 11:30:23,079] Trial 143 finished with value: 23.72381327516142 and parameters: {'lambda': 0.8985265598976906, 'alpha': 0.7447379907583197, 'learning_rate': 0.09195292045926486, 'n_estimators': 742, 'max_depth': 8, 'min_child_weight': 10, 'gamma': 0.5842683624188345, 'subsample': 0.7120084675973559, 'colsample_bytree': 0.9601851415590423}. Best is trial 94 with value: 16.526199944402432.\n",
      "[I 2024-11-15 11:30:23,213] Trial 144 finished with value: 18.149987000314056 and parameters: {'lambda': 0.017656672081604926, 'alpha': 0.369437581250145, 'learning_rate': 0.033505452060343485, 'n_estimators': 432, 'max_depth': 7, 'min_child_weight': 10, 'gamma': 0.23735408118765433, 'subsample': 0.7138183078908243, 'colsample_bytree': 0.5259011014582873}. Best is trial 94 with value: 16.526199944402432.\n",
      "[I 2024-11-15 11:30:23,291] Trial 145 finished with value: 26.23885965228757 and parameters: {'lambda': 0.7759076373775822, 'alpha': 0.7714198683998571, 'learning_rate': 0.2556724917477148, 'n_estimators': 214, 'max_depth': 10, 'min_child_weight': 3, 'gamma': 0.5103068052118002, 'subsample': 0.6559560090584711, 'colsample_bytree': 0.5235546706325853}. Best is trial 94 with value: 16.526199944402432.\n",
      "[I 2024-11-15 11:30:23,401] Trial 146 finished with value: 24.680416881871018 and parameters: {'lambda': 0.46423253055258096, 'alpha': 0.4303055011334436, 'learning_rate': 0.1583163236605173, 'n_estimators': 266, 'max_depth': 10, 'min_child_weight': 7, 'gamma': 0.19538385536128755, 'subsample': 0.8458323715854741, 'colsample_bytree': 0.8691333124590999}. Best is trial 94 with value: 16.526199944402432.\n",
      "[I 2024-11-15 11:30:23,548] Trial 147 finished with value: 26.568198688640177 and parameters: {'lambda': 0.7912617191284139, 'alpha': 0.060376491822885944, 'learning_rate': 0.16608011534216932, 'n_estimators': 368, 'max_depth': 9, 'min_child_weight': 8, 'gamma': 0.16140775404830887, 'subsample': 0.8312864391023783, 'colsample_bytree': 0.7519601846779083}. Best is trial 94 with value: 16.526199944402432.\n",
      "[I 2024-11-15 11:30:23,642] Trial 148 finished with value: 21.969233635900654 and parameters: {'lambda': 0.32141358469217846, 'alpha': 0.9720589921246716, 'learning_rate': 0.15036553247353174, 'n_estimators': 293, 'max_depth': 4, 'min_child_weight': 4, 'gamma': 0.16011769294686218, 'subsample': 0.8268175967777902, 'colsample_bytree': 0.7642995003244222}. Best is trial 94 with value: 16.526199944402432.\n",
      "[I 2024-11-15 11:30:23,696] Trial 149 finished with value: 18.4914654695445 and parameters: {'lambda': 0.9305839227223346, 'alpha': 0.5614516163821732, 'learning_rate': 0.04204819597886362, 'n_estimators': 111, 'max_depth': 9, 'min_child_weight': 6, 'gamma': 0.47464744183556384, 'subsample': 0.8026890469269494, 'colsample_bytree': 0.8901841401892077}. Best is trial 94 with value: 16.526199944402432.\n",
      "[I 2024-11-15 11:30:23,744] Trial 150 finished with value: 25.108525088289216 and parameters: {'lambda': 0.9524174416964142, 'alpha': 0.6686238440364566, 'learning_rate': 0.012981553677778307, 'n_estimators': 180, 'max_depth': 4, 'min_child_weight': 8, 'gamma': 0.6756571493978232, 'subsample': 0.6518814710962605, 'colsample_bytree': 0.8822847269137306}. Best is trial 94 with value: 16.526199944402432.\n",
      "[I 2024-11-15 11:30:23,890] Trial 151 finished with value: 17.55657740296799 and parameters: {'lambda': 0.6925006090925016, 'alpha': 0.03483988428057281, 'learning_rate': 0.012610547272027478, 'n_estimators': 693, 'max_depth': 4, 'min_child_weight': 10, 'gamma': 0.05248774058562955, 'subsample': 0.5353644091070489, 'colsample_bytree': 0.8981268753542013}. Best is trial 94 with value: 16.526199944402432.\n",
      "[I 2024-11-15 11:30:24,084] Trial 152 finished with value: 27.05103300296737 and parameters: {'lambda': 0.4614050304248617, 'alpha': 0.7967549135214886, 'learning_rate': 0.181689681535475, 'n_estimators': 561, 'max_depth': 9, 'min_child_weight': 8, 'gamma': 0.1238563967340015, 'subsample': 0.644744198581692, 'colsample_bytree': 0.8118397184348057}. Best is trial 94 with value: 16.526199944402432.\n",
      "[I 2024-11-15 11:30:24,345] Trial 153 finished with value: 27.194366644572494 and parameters: {'lambda': 0.9973535660140387, 'alpha': 0.4705489202284035, 'learning_rate': 0.17927435856797216, 'n_estimators': 731, 'max_depth': 10, 'min_child_weight': 10, 'gamma': 0.03955207949468731, 'subsample': 0.903279348177009, 'colsample_bytree': 0.533565135746327}. Best is trial 94 with value: 16.526199944402432.\n",
      "[I 2024-11-15 11:30:24,422] Trial 154 finished with value: 20.84092745502735 and parameters: {'lambda': 0.7914304115996498, 'alpha': 0.42667679315842383, 'learning_rate': 0.14471845107424877, 'n_estimators': 227, 'max_depth': 7, 'min_child_weight': 9, 'gamma': 0.3880657886953963, 'subsample': 0.5926615659916554, 'colsample_bytree': 0.7811966240050909}. Best is trial 94 with value: 16.526199944402432.\n",
      "[I 2024-11-15 11:30:24,549] Trial 155 finished with value: 27.21848455927234 and parameters: {'lambda': 0.06537700567011845, 'alpha': 0.3959712362837357, 'learning_rate': 0.19447006912873238, 'n_estimators': 287, 'max_depth': 10, 'min_child_weight': 5, 'gamma': 0.14944323486213384, 'subsample': 0.5532334521911906, 'colsample_bytree': 0.9187870506575625}. Best is trial 94 with value: 16.526199944402432.\n",
      "[I 2024-11-15 11:30:24,685] Trial 156 finished with value: 21.9565392297073 and parameters: {'lambda': 0.05116676258677476, 'alpha': 0.2732260732791512, 'learning_rate': 0.23491753634190152, 'n_estimators': 793, 'max_depth': 8, 'min_child_weight': 9, 'gamma': 0.32507764015910845, 'subsample': 0.9921610189731387, 'colsample_bytree': 0.616211350928868}. Best is trial 94 with value: 16.526199944402432.\n",
      "[I 2024-11-15 11:30:24,874] Trial 157 finished with value: 25.057889392089628 and parameters: {'lambda': 0.21839826985788274, 'alpha': 0.7086348939203511, 'learning_rate': 0.12111181961768798, 'n_estimators': 532, 'max_depth': 10, 'min_child_weight': 5, 'gamma': 0.2030301007530544, 'subsample': 0.5097218391401459, 'colsample_bytree': 0.6653088108727633}. Best is trial 94 with value: 16.526199944402432.\n",
      "[I 2024-11-15 11:30:24,980] Trial 158 finished with value: 18.13898460794398 and parameters: {'lambda': 0.19907352317725796, 'alpha': 0.0486381201385817, 'learning_rate': 0.056944474202195776, 'n_estimators': 533, 'max_depth': 5, 'min_child_weight': 9, 'gamma': 0.8387014487878363, 'subsample': 0.9906746232850074, 'colsample_bytree': 0.6324050251029951}. Best is trial 94 with value: 16.526199944402432.\n",
      "[I 2024-11-15 11:30:25,072] Trial 159 finished with value: 18.95885855989434 and parameters: {'lambda': 0.7194364098697325, 'alpha': 0.8288627096058091, 'learning_rate': 0.0153754031480916, 'n_estimators': 312, 'max_depth': 9, 'min_child_weight': 10, 'gamma': 0.20828496808731523, 'subsample': 0.5175713591979689, 'colsample_bytree': 0.557814202997033}. Best is trial 94 with value: 16.526199944402432.\n",
      "[I 2024-11-15 11:30:25,343] Trial 160 finished with value: 31.164251010945794 and parameters: {'lambda': 0.29193469828916757, 'alpha': 0.6174726212538041, 'learning_rate': 0.24618179122985698, 'n_estimators': 862, 'max_depth': 8, 'min_child_weight': 3, 'gamma': 0.1206776866767505, 'subsample': 0.610626760573851, 'colsample_bytree': 0.6241926717004027}. Best is trial 94 with value: 16.526199944402432.\n",
      "[I 2024-11-15 11:30:25,448] Trial 161 finished with value: 26.019083801880488 and parameters: {'lambda': 0.803966868593755, 'alpha': 0.5177252703489921, 'learning_rate': 0.24677865823047154, 'n_estimators': 533, 'max_depth': 5, 'min_child_weight': 4, 'gamma': 0.92305796673743, 'subsample': 0.8707532491107972, 'colsample_bytree': 0.5724814988852733}. Best is trial 94 with value: 16.526199944402432.\n",
      "[I 2024-11-15 11:30:25,659] Trial 162 finished with value: 25.751337981562372 and parameters: {'lambda': 0.7046615994505215, 'alpha': 0.317879950295114, 'learning_rate': 0.13403469908075824, 'n_estimators': 943, 'max_depth': 5, 'min_child_weight': 4, 'gamma': 0.956872407650286, 'subsample': 0.8052308531211567, 'colsample_bytree': 0.9543291649576304}. Best is trial 94 with value: 16.526199944402432.\n",
      "[I 2024-11-15 11:30:25,841] Trial 163 finished with value: 21.46188050966425 and parameters: {'lambda': 0.27842265253514076, 'alpha': 0.6008418556991881, 'learning_rate': 0.2044192571585491, 'n_estimators': 944, 'max_depth': 3, 'min_child_weight': 9, 'gamma': 0.9420512712968575, 'subsample': 0.7195253977322824, 'colsample_bytree': 0.6889257302329311}. Best is trial 94 with value: 16.526199944402432.\n",
      "[I 2024-11-15 11:30:25,911] Trial 164 finished with value: 19.36053423244823 and parameters: {'lambda': 0.9632452945391746, 'alpha': 0.46641415949565806, 'learning_rate': 0.12223705155920649, 'n_estimators': 160, 'max_depth': 10, 'min_child_weight': 7, 'gamma': 0.988638819332705, 'subsample': 0.7144795888518639, 'colsample_bytree': 0.5936516158178712}. Best is trial 94 with value: 16.526199944402432.\n",
      "[I 2024-11-15 11:30:26,181] Trial 165 finished with value: 27.484011197513073 and parameters: {'lambda': 0.8764544235988194, 'alpha': 0.9916461728397958, 'learning_rate': 0.22183127633232788, 'n_estimators': 881, 'max_depth': 5, 'min_child_weight': 7, 'gamma': 0.3543921717584355, 'subsample': 0.8183866243162095, 'colsample_bytree': 0.5632452265685362}. Best is trial 94 with value: 16.526199944402432.\n",
      "[I 2024-11-15 11:30:26,455] Trial 166 finished with value: 26.598505107200367 and parameters: {'lambda': 0.516201394719515, 'alpha': 0.08865791538158971, 'learning_rate': 0.23982974512495583, 'n_estimators': 654, 'max_depth': 8, 'min_child_weight': 5, 'gamma': 0.2626728544125859, 'subsample': 0.9503167474399239, 'colsample_bytree': 0.8680450829487195}. Best is trial 94 with value: 16.526199944402432.\n",
      "[I 2024-11-15 11:30:26,700] Trial 167 finished with value: 21.135510701244378 and parameters: {'lambda': 0.12829102351790664, 'alpha': 0.6550249740275456, 'learning_rate': 0.14552090745787782, 'n_estimators': 724, 'max_depth': 4, 'min_child_weight': 8, 'gamma': 0.43428837518148633, 'subsample': 0.8256366323481871, 'colsample_bytree': 0.5392819202593817}. Best is trial 94 with value: 16.526199944402432.\n",
      "[I 2024-11-15 11:30:26,788] Trial 168 finished with value: 22.246971199566293 and parameters: {'lambda': 0.5174816745430753, 'alpha': 0.033961453427439524, 'learning_rate': 0.23996140673246694, 'n_estimators': 229, 'max_depth': 5, 'min_child_weight': 10, 'gamma': 0.779299727873375, 'subsample': 0.7951817916683981, 'colsample_bytree': 0.9006739685787939}. Best is trial 94 with value: 16.526199944402432.\n",
      "[I 2024-11-15 11:30:26,842] Trial 169 finished with value: 20.98750045861096 and parameters: {'lambda': 0.41336540177252773, 'alpha': 0.3259294760095714, 'learning_rate': 0.261401589917812, 'n_estimators': 145, 'max_depth': 6, 'min_child_weight': 10, 'gamma': 0.10449694874821702, 'subsample': 0.6840458055818072, 'colsample_bytree': 0.7429446705192007}. Best is trial 94 with value: 16.526199944402432.\n",
      "[I 2024-11-15 11:30:27,099] Trial 170 finished with value: 24.61353297561074 and parameters: {'lambda': 0.44568226670194544, 'alpha': 0.6085772860695151, 'learning_rate': 0.24285377987981563, 'n_estimators': 743, 'max_depth': 4, 'min_child_weight': 3, 'gamma': 0.8820366665981884, 'subsample': 0.8634341835913254, 'colsample_bytree': 0.5759448804768595}. Best is trial 94 with value: 16.526199944402432.\n",
      "[I 2024-11-15 11:30:27,335] Trial 171 finished with value: 19.293985940963466 and parameters: {'lambda': 0.09984985912669518, 'alpha': 0.4131774738889954, 'learning_rate': 0.1732216130855305, 'n_estimators': 679, 'max_depth': 3, 'min_child_weight': 9, 'gamma': 0.43646087872822414, 'subsample': 0.5471573802044885, 'colsample_bytree': 0.5921051220574399}. Best is trial 94 with value: 16.526199944402432.\n",
      "[I 2024-11-15 11:30:27,712] Trial 172 finished with value: 26.8440854189613 and parameters: {'lambda': 0.23922201773318663, 'alpha': 0.15809819740382777, 'learning_rate': 0.14936975243410514, 'n_estimators': 661, 'max_depth': 7, 'min_child_weight': 7, 'gamma': 0.12048351219707076, 'subsample': 0.8015578880680072, 'colsample_bytree': 0.6753849771404494}. Best is trial 94 with value: 16.526199944402432.\n",
      "[I 2024-11-15 11:30:28,083] Trial 173 finished with value: 27.98176073256802 and parameters: {'lambda': 0.492410466229104, 'alpha': 0.7161102067671324, 'learning_rate': 0.24976532666620851, 'n_estimators': 943, 'max_depth': 6, 'min_child_weight': 9, 'gamma': 0.9529519165479748, 'subsample': 0.6421552197406566, 'colsample_bytree': 0.5136729330972662}. Best is trial 94 with value: 16.526199944402432.\n",
      "[I 2024-11-15 11:30:28,382] Trial 174 finished with value: 25.35521279403857 and parameters: {'lambda': 0.6384416851629219, 'alpha': 0.7776018944055686, 'learning_rate': 0.16553448258979755, 'n_estimators': 960, 'max_depth': 4, 'min_child_weight': 2, 'gamma': 0.30121034871393937, 'subsample': 0.6782000828865589, 'colsample_bytree': 0.611151807986924}. Best is trial 94 with value: 16.526199944402432.\n",
      "[I 2024-11-15 11:30:28,671] Trial 175 finished with value: 23.610143116648377 and parameters: {'lambda': 0.7440002288316533, 'alpha': 0.7735784150198911, 'learning_rate': 0.17846233874322567, 'n_estimators': 943, 'max_depth': 8, 'min_child_weight': 1, 'gamma': 0.18157279980180074, 'subsample': 0.944406210581928, 'colsample_bytree': 0.6678505366230695}. Best is trial 94 with value: 16.526199944402432.\n",
      "[I 2024-11-15 11:30:28,767] Trial 176 finished with value: 17.414619200251995 and parameters: {'lambda': 0.04534374716122033, 'alpha': 0.8496392668880153, 'learning_rate': 0.024650265858801163, 'n_estimators': 247, 'max_depth': 5, 'min_child_weight': 8, 'gamma': 0.43684439518040663, 'subsample': 0.8674171787952452, 'colsample_bytree': 0.9262588818425965}. Best is trial 94 with value: 16.526199944402432.\n",
      "[I 2024-11-15 11:30:28,811] Trial 177 finished with value: 17.939494013547762 and parameters: {'lambda': 0.3290957618237002, 'alpha': 0.12186180668563305, 'learning_rate': 0.11412883833534114, 'n_estimators': 154, 'max_depth': 3, 'min_child_weight': 3, 'gamma': 0.09572834577807132, 'subsample': 0.8323875838137837, 'colsample_bytree': 0.9835906572165278}. Best is trial 94 with value: 16.526199944402432.\n",
      "[I 2024-11-15 11:30:28,940] Trial 178 finished with value: 23.507530002805 and parameters: {'lambda': 0.5764819948709717, 'alpha': 0.9167492658376187, 'learning_rate': 0.18267445388785708, 'n_estimators': 388, 'max_depth': 6, 'min_child_weight': 7, 'gamma': 0.9767326199441524, 'subsample': 0.7712146228604881, 'colsample_bytree': 0.5121909156350704}. Best is trial 94 with value: 16.526199944402432.\n",
      "[I 2024-11-15 11:30:29,212] Trial 179 finished with value: 20.69224446256215 and parameters: {'lambda': 0.7035614193824926, 'alpha': 0.7914298045431787, 'learning_rate': 0.04810009109637861, 'n_estimators': 912, 'max_depth': 4, 'min_child_weight': 2, 'gamma': 0.9581386110948606, 'subsample': 0.550445383489983, 'colsample_bytree': 0.8990266264044015}. Best is trial 94 with value: 16.526199944402432.\n",
      "[I 2024-11-15 11:30:29,326] Trial 180 finished with value: 26.900273911259596 and parameters: {'lambda': 0.3219120859115742, 'alpha': 0.6156805844861812, 'learning_rate': 0.2926265543860696, 'n_estimators': 421, 'max_depth': 9, 'min_child_weight': 4, 'gamma': 0.6673898712142684, 'subsample': 0.8919696460286433, 'colsample_bytree': 0.5167397466648895}. Best is trial 94 with value: 16.526199944402432.\n",
      "[I 2024-11-15 11:30:29,433] Trial 181 finished with value: 24.541415560632633 and parameters: {'lambda': 0.917195332569728, 'alpha': 0.5593402025208901, 'learning_rate': 0.20126244728024348, 'n_estimators': 259, 'max_depth': 9, 'min_child_weight': 4, 'gamma': 0.9104891523183821, 'subsample': 0.6148287330383785, 'colsample_bytree': 0.8986330414360195}. Best is trial 94 with value: 16.526199944402432.\n",
      "[I 2024-11-15 11:30:29,554] Trial 182 finished with value: 18.94851539183973 and parameters: {'lambda': 0.8498158409850964, 'alpha': 0.06184822707964474, 'learning_rate': 0.09103847967231524, 'n_estimators': 547, 'max_depth': 4, 'min_child_weight': 9, 'gamma': 0.4906125029965259, 'subsample': 0.5795915112067992, 'colsample_bytree': 0.5782991502505141}. Best is trial 94 with value: 16.526199944402432.\n",
      "[I 2024-11-15 11:30:29,792] Trial 183 finished with value: 22.407635781542385 and parameters: {'lambda': 0.04162373975565417, 'alpha': 0.9623600883444892, 'learning_rate': 0.09395749643022064, 'n_estimators': 654, 'max_depth': 8, 'min_child_weight': 7, 'gamma': 0.6359926911141178, 'subsample': 0.81330773740694, 'colsample_bytree': 0.6030151414247262}. Best is trial 94 with value: 16.526199944402432.\n",
      "[I 2024-11-15 11:30:29,871] Trial 184 finished with value: 20.280243772247847 and parameters: {'lambda': 0.9429918292238986, 'alpha': 0.868552749156451, 'learning_rate': 0.16578159817174093, 'n_estimators': 248, 'max_depth': 4, 'min_child_weight': 6, 'gamma': 0.07000808360107214, 'subsample': 0.8505902300652577, 'colsample_bytree': 0.8494657147944366}. Best is trial 94 with value: 16.526199944402432.\n",
      "[I 2024-11-15 11:30:30,089] Trial 185 finished with value: 22.455548091894546 and parameters: {'lambda': 0.6130315817785016, 'alpha': 0.1688947256225385, 'learning_rate': 0.12219853937262427, 'n_estimators': 869, 'max_depth': 4, 'min_child_weight': 9, 'gamma': 0.07262180042584054, 'subsample': 0.5077989013138104, 'colsample_bytree': 0.9235891233122295}. Best is trial 94 with value: 16.526199944402432.\n",
      "[I 2024-11-15 11:30:30,289] Trial 186 finished with value: 31.889080397880925 and parameters: {'lambda': 0.3119509267046936, 'alpha': 0.33202283294973806, 'learning_rate': 0.29293392597414347, 'n_estimators': 627, 'max_depth': 8, 'min_child_weight': 5, 'gamma': 0.6618918340885535, 'subsample': 0.5909037084608644, 'colsample_bytree': 0.58728562396994}. Best is trial 94 with value: 16.526199944402432.\n",
      "[I 2024-11-15 11:30:30,534] Trial 187 finished with value: 25.036622621053922 and parameters: {'lambda': 0.21666970934174815, 'alpha': 0.764766845977101, 'learning_rate': 0.08067674820500738, 'n_estimators': 991, 'max_depth': 5, 'min_child_weight': 4, 'gamma': 0.9325819505395141, 'subsample': 0.6244961998861613, 'colsample_bytree': 0.992663516961589}. Best is trial 94 with value: 16.526199944402432.\n",
      "[I 2024-11-15 11:30:30,607] Trial 188 finished with value: 23.308376703203784 and parameters: {'lambda': 0.468901886824212, 'alpha': 0.8968966497209447, 'learning_rate': 0.22379118459717795, 'n_estimators': 273, 'max_depth': 6, 'min_child_weight': 5, 'gamma': 0.5307795642482336, 'subsample': 0.5812356190707884, 'colsample_bytree': 0.5785702900683269}. Best is trial 94 with value: 16.526199944402432.\n",
      "[I 2024-11-15 11:30:30,876] Trial 189 finished with value: 24.92428214707625 and parameters: {'lambda': 0.4149646745932492, 'alpha': 0.6874061472458732, 'learning_rate': 0.12350961869265766, 'n_estimators': 760, 'max_depth': 9, 'min_child_weight': 8, 'gamma': 0.05066188884785561, 'subsample': 0.5055822475392584, 'colsample_bytree': 0.9868598223248639}. Best is trial 94 with value: 16.526199944402432.\n",
      "[I 2024-11-15 11:30:31,024] Trial 190 finished with value: 17.67947084955256 and parameters: {'lambda': 0.03129114035673044, 'alpha': 0.9316343182292824, 'learning_rate': 0.027175527477618824, 'n_estimators': 338, 'max_depth': 9, 'min_child_weight': 7, 'gamma': 0.3849176619121163, 'subsample': 0.5095454912259556, 'colsample_bytree': 0.5597725100263597}. Best is trial 94 with value: 16.526199944402432.\n",
      "[I 2024-11-15 11:30:31,087] Trial 191 finished with value: 17.18581448797639 and parameters: {'lambda': 0.16500049670391967, 'alpha': 0.854051996438903, 'learning_rate': 0.08821362901169603, 'n_estimators': 303, 'max_depth': 3, 'min_child_weight': 9, 'gamma': 0.06068938560121728, 'subsample': 0.6724322910582519, 'colsample_bytree': 0.6380383495125568}. Best is trial 94 with value: 16.526199944402432.\n",
      "[I 2024-11-15 11:30:31,313] Trial 192 finished with value: 22.189192887076626 and parameters: {'lambda': 0.7352760044902867, 'alpha': 0.28365725138071324, 'learning_rate': 0.08441293198663768, 'n_estimators': 993, 'max_depth': 4, 'min_child_weight': 5, 'gamma': 0.7491391500925995, 'subsample': 0.7425383317205547, 'colsample_bytree': 0.7234972630618195}. Best is trial 94 with value: 16.526199944402432.\n",
      "[I 2024-11-15 11:30:31,532] Trial 193 finished with value: 24.524051463311498 and parameters: {'lambda': 0.7243690290750935, 'alpha': 0.14009157601663585, 'learning_rate': 0.069797021936131, 'n_estimators': 701, 'max_depth': 7, 'min_child_weight': 5, 'gamma': 0.01027313334025215, 'subsample': 0.8972220781428967, 'colsample_bytree': 0.5975365123133762}. Best is trial 94 with value: 16.526199944402432.\n",
      "[I 2024-11-15 11:30:31,709] Trial 194 finished with value: 26.08132247040234 and parameters: {'lambda': 0.2343079446763529, 'alpha': 0.08238972019736389, 'learning_rate': 0.2668336816241895, 'n_estimators': 657, 'max_depth': 10, 'min_child_weight': 10, 'gamma': 0.8183259369869305, 'subsample': 0.8085847779540953, 'colsample_bytree': 0.9348158577051493}. Best is trial 94 with value: 16.526199944402432.\n",
      "[I 2024-11-15 11:30:31,798] Trial 195 finished with value: 19.796503632277286 and parameters: {'lambda': 0.24485755512700758, 'alpha': 0.8073614904465068, 'learning_rate': 0.1422946745375571, 'n_estimators': 462, 'max_depth': 3, 'min_child_weight': 10, 'gamma': 0.38803875788412545, 'subsample': 0.630796005605464, 'colsample_bytree': 0.9793583687273872}. Best is trial 94 with value: 16.526199944402432.\n",
      "[I 2024-11-15 11:30:31,907] Trial 196 finished with value: 28.83375365131222 and parameters: {'lambda': 0.21418587388670426, 'alpha': 0.2635268182828786, 'learning_rate': 0.249581289005382, 'n_estimators': 371, 'max_depth': 9, 'min_child_weight': 5, 'gamma': 0.5387008693011165, 'subsample': 0.8083122604671971, 'colsample_bytree': 0.5059764192704157}. Best is trial 94 with value: 16.526199944402432.\n",
      "[I 2024-11-15 11:30:32,128] Trial 197 finished with value: 25.2791044021324 and parameters: {'lambda': 0.8461482161576085, 'alpha': 0.08756544112713117, 'learning_rate': 0.1251339151912793, 'n_estimators': 540, 'max_depth': 10, 'min_child_weight': 7, 'gamma': 0.14272475092555414, 'subsample': 0.7281163236354209, 'colsample_bytree': 0.7065727444934817}. Best is trial 94 with value: 16.526199944402432.\n",
      "[I 2024-11-15 11:30:32,163] Trial 198 finished with value: 19.359851485227658 and parameters: {'lambda': 0.9594641338424557, 'alpha': 0.18855986567712263, 'learning_rate': 0.2773627794234852, 'n_estimators': 132, 'max_depth': 4, 'min_child_weight': 6, 'gamma': 0.4692097934673298, 'subsample': 0.7034494056805373, 'colsample_bytree': 0.5224018007950466}. Best is trial 94 with value: 16.526199944402432.\n",
      "[I 2024-11-15 11:30:32,244] Trial 199 finished with value: 19.734290940286577 and parameters: {'lambda': 0.27844576517659597, 'alpha': 0.7567573138103271, 'learning_rate': 0.13202063405030023, 'n_estimators': 428, 'max_depth': 4, 'min_child_weight': 4, 'gamma': 0.3621785127151276, 'subsample': 0.9958962668211105, 'colsample_bytree': 0.7237075989369572}. Best is trial 94 with value: 16.526199944402432.\n"
     ]
    },
    {
     "name": "stdout",
     "output_type": "stream",
     "text": [
      "Best RMSE: 16.526199944402432\n",
      "Best Hyperparameters: {'lambda': 0.7776946242221539, 'alpha': 0.4553279819096448, 'learning_rate': 0.02390507472130109, 'n_estimators': 621, 'max_depth': 3, 'min_child_weight': 8, 'gamma': 0.1378095176970795, 'subsample': 0.7800693697922976, 'colsample_bytree': 0.6487508258936652}\n"
     ]
    }
   ],
   "source": [
    "### Use Optuna with XGBoost to tune hyperparameters\n",
    "\n",
    "def objective(trial):\n",
    "    # Define the parameter search space\n",
    "    param = {\n",
    "        'objective': 'reg:squarederror',\n",
    "        'eval_metric': 'rmse',\n",
    "        'booster': 'gbtree',\n",
    "        'lambda': trial.suggest_float('lambda', 1e-2, 1.0),\n",
    "        'alpha': trial.suggest_float('alpha', 1e-2, 1.0),\n",
    "        'learning_rate': trial.suggest_float('learning_rate', 0.01, 0.3),\n",
    "        'n_estimators': trial.suggest_int('n_estimators', 100, 1000),\n",
    "        'max_depth': trial.suggest_int('max_depth', 3, 10),\n",
    "        'min_child_weight': trial.suggest_int('min_child_weight', 1, 10),\n",
    "        'gamma': trial.suggest_float('gamma', 0, 1.0),\n",
    "        'subsample': trial.suggest_float('subsample', 0.5, 1.0),\n",
    "        'colsample_bytree': trial.suggest_float('colsample_bytree', 0.5, 1.0)\n",
    "    }\n",
    "\n",
    "    # Train the XGBoost model with the current set of parameters\n",
    "    model = xgb.XGBRegressor(**param)\n",
    "    model.fit(X_train, y_train, eval_set=[(X_test, y_test)],  verbose=False)\n",
    "\n",
    "    # Make predictions and evaluate\n",
    "    preds = model.predict(X_test)\n",
    "    rmse = mean_squared_error(y_test, preds)\n",
    "\n",
    "    return rmse\n",
    "\n",
    "study = optuna.create_study(direction='minimize', sampler=optuna.samplers.RandomSampler())\n",
    "study.optimize(objective, n_trials=200)  # Adjust n_trials as needed\n",
    "\n",
    "# Print the best hyperparameters and the best RMSE\n",
    "print(\"Best RMSE:\", study.best_value)\n",
    "print(\"Best Hyperparameters:\", study.best_params)"
   ]
  },
  {
   "cell_type": "code",
   "execution_count": 60,
   "metadata": {},
   "outputs": [
    {
     "name": "stderr",
     "output_type": "stream",
     "text": [
      "C:\\Users\\mohda\\AppData\\Local\\Temp\\ipykernel_38612\\1528109834.py:19: FutureWarning:\n",
      "\n",
      "\n",
      "\n",
      "Passing `palette` without assigning `hue` is deprecated and will be removed in v0.14.0. Assign the `x` variable to `hue` and set `legend=False` for the same effect.\n",
      "\n",
      "\n"
     ]
    },
    {
     "data": {
      "image/png": "[encoded data removed]",
      "text/plain": [
       "<Figure size 800x400 with 1 Axes>"
      ]
     },
     "metadata": {},
     "output_type": "display_data"
    },
    {
     "data": {
      "image/png": "[encoded data removed]",
      "text/plain": [
       "<Figure size 800x400 with 1 Axes>"
      ]
     },
     "metadata": {},
     "output_type": "display_data"
    },
    {
     "data": {
      "image/png": "[encoded data removed]",
      "text/plain": [
       "<Figure size 800x400 with 1 Axes>"
      ]
     },
     "metadata": {},
     "output_type": "display_data"
    }
   ],
   "source": [
    "### Display model performance metrics with the best hyperparameters. \n",
    "best_params = study.best_params\n",
    "optimal_model = xgb.XGBRegressor(**best_params, objective='reg:squarederror', eval_metric='rmse')\n",
    "optimal_model.fit(X_train, y_train)\n",
    "\n",
    "### use this optimal model to predict\n",
    "y_pred = optimal_model.predict(X_test)\n",
    "\n",
    "\n",
    "### get model performance metrics for this model\n",
    "rmse = np.sqrt(mean_squared_error(y_test, y_pred))\n",
    "mae = mean_absolute_error(y_test, y_pred)\n",
    "r2 = r2_score(y_test, y_pred)\n",
    "\n",
    "\n",
    "### Visualize metrics\n",
    "metrics = {'RMSE': rmse, 'MAE': mae, 'R² Score': r2}\n",
    "plt.figure(figsize=(8, 4))\n",
    "sns.barplot(x=list(metrics.keys()), y=list(metrics.values()), palette=\"Blues_d\")\n",
    "plt.title(\"Optimal XGBoost Regression Model Performance Metrics\")\n",
    "plt.ylabel(\"Metric Value\")\n",
    "plt.show()\n",
    "\n",
    "### Plot residuals\n",
    "residuals = y_test - y_pred\n",
    "plt.figure(figsize=(8, 4))\n",
    "sns.scatterplot(x=y_pred, y=residuals, alpha=0.7, color=\"orange\")\n",
    "plt.axhline(0, color='red', linestyle='--')\n",
    "plt.xlabel(\"Predicted Values\")\n",
    "plt.ylabel(\"Residuals\")\n",
    "plt.title(\"Residual Plot\")\n",
    "plt.show()\n",
    "\n",
    "### True vs Predicted scatter plot\n",
    "plt.figure(figsize=(8, 4))\n",
    "sns.scatterplot(x=y_test, y=y_pred, alpha=0.7, color=\"green\")\n",
    "plt.plot([y_test.min(), y_test.max()], [y_test.min(), y_test.max()], 'r--')  # Perfect prediction line\n",
    "plt.xlabel(\"True Values\")\n",
    "plt.ylabel(\"Predicted Values\")\n",
    "plt.title(\"True vs Predicted Values\")\n",
    "plt.show()\n"
   ]
  },
  {
   "cell_type": "code",
   "execution_count": 61,
   "metadata": {},
   "outputs": [],
   "source": [
    "##### Use this code for a classifier\n",
    "#######\n",
    "\n",
    "# # Use the best hyperparameters from Optuna\n",
    "# best_params = study.best_params\n",
    "# optimal_model = xgb.XGBClassifier(**best_params, use_label_encoder=False, eval_metric=\"logloss\")\n",
    "# optimal_model.fit(X_train, y_train)\n",
    "\n",
    "# # Use this optimal model to predict\n",
    "# y_pred = optimal_model.predict(X_test)  # Predicted class labels\n",
    "# y_proba = optimal_model.predict_proba(X_test)[:, 1]  # Predicted probabilities for the positive class\n",
    "\n",
    "# # Get classification performance metrics\n",
    "# accuracy = accuracy_score(y_test, y_pred)\n",
    "# precision = precision_score(y_test, y_pred)\n",
    "# recall = recall_score(y_test, y_pred)\n",
    "# f1 = f1_score(y_test, y_pred)\n",
    "# roc_auc = roc_auc_score(y_test, y_proba)\n",
    "\n",
    "# # Visualize metrics\n",
    "# metrics = {'Accuracy': accuracy, 'Precision': precision, 'Recall': recall, 'F1-Score': f1, 'ROC AUC': roc_auc}\n",
    "# plt.figure(figsize=(8, 4))\n",
    "# sns.barplot(x=list(metrics.keys()), y=list(metrics.values()), palette=\"Blues_d\")\n",
    "# plt.title(\"Optimal XGBoost Classification Model Performance Metrics\")\n",
    "# plt.ylabel(\"Metric Value\")\n",
    "# plt.ylim(0, 1)  # Metrics are probabilities, so range is [0, 1]\n",
    "# plt.show()\n",
    "\n",
    "# # Confusion Matrix\n",
    "# cm = confusion_matrix(y_test, y_pred)\n",
    "# disp = ConfusionMatrixDisplay(confusion_matrix=cm, display_labels=optimal_model.classes_)\n",
    "# disp.plot(cmap=\"Blues\")\n",
    "# plt.title(\"Confusion Matrix\")\n",
    "# plt.show()\n",
    "\n",
    "# # ROC Curve\n",
    "# fpr, tpr, _ = roc_curve(y_test, y_proba)\n",
    "# plt.figure(figsize=(8, 6))\n",
    "# plt.plot(fpr, tpr, label=f\"AUC = {roc_auc:.2f}\")\n",
    "# plt.plot([0, 1], [0, 1], color='red', linestyle='--')\n",
    "# plt.xlabel(\"False Positive Rate\")\n",
    "# plt.ylabel(\"True Positive Rate\")\n",
    "# plt.title(\"ROC Curve\")\n",
    "# plt.legend(loc=\"lower right\")\n",
    "# plt.show()"
   ]
  },
  {
   "cell_type": "code",
   "execution_count": 62,
   "metadata": {},
   "outputs": [
    {
     "data": {
      "image/png": "[encoded data removed]",
      "text/plain": [
       "<Figure size 640x480 with 6 Axes>"
      ]
     },
     "metadata": {},
     "output_type": "display_data"
    }
   ],
   "source": [
    "### Plot partial dependance plots \n",
    "features_to_plot = selected_features[:5]  # Limit to top 5 features for visualization\n",
    "feature_indices = [X_train.columns.get_loc(col) for col in features_to_plot]  # Get column indices for selected features\n",
    "\n",
    "# Plot PDPs\n",
    "PartialDependenceDisplay.from_estimator(\n",
    "    optimal_model, X_train, features=feature_indices, grid_resolution=50\n",
    ")\n",
    "plt.suptitle(\"Partial Dependence Plots for Selected Features\")\n",
    "plt.show()"
   ]
  },
  {
   "cell_type": "code",
   "execution_count": 14,
   "metadata": {},
   "outputs": [
    {
     "data": {
      "application/vnd.plotly.v1+json": {
       "config": {
        "plotlyServerURL": "https://plot.ly"
       },
       "data": [
        {
         "mode": "markers",
         "name": "Objective Value",
         "type": "scatter",
         "x": [
          0,
          1,
          2,
          3,
          4,
          5,
          6,
          7,
          8,
          9,
          10,
          11,
          12,
          13,
          14,
          15,
          16,
          17,
          18,
          19,
          20,
          21,
          22,
          23,
          24,
          25,
          26,
          27,
          28,
          29,
          30,
          31,
          32,
          33,
          34,
          35,
          36,
          37,
          38,
          39,
          40,
          41,
          42,
          43,
          44,
          45,
          46,
          47,
          48,
          49,
          50,
          51,
          52,
          53,
          54,
          55,
          56,
          57,
          58,
          59,
          60,
          61,
          62,
          63,
          64,
          65,
          66,
          67,
          68,
          69,
          70,
          71,
          72,
          73,
          74,
          75,
          76,
          77,
          78,
          79,
          80,
          81,
          82,
          83,
          84,
          85,
          86,
          87,
          88,
          89,
          90,
          91,
          92,
          93,
          94,
          95,
          96,
          97,
          98,
          99,
          100,
          101,
          102,
          103,
          104,
          105,
          106,
          107,
          108,
          109,
          110,
          111,
          112,
          113,
          114,
          115,
          116,
          117,
          118,
          119,
          120,
          121,
          122,
          123,
          124,
          125,
          126,
          127,
          128,
          129,
          130,
          131,
          132,
          133,
          134,
          135,
          136,
          137,
          138,
          139,
          140,
          141,
          142,
          143,
          144,
          145,
          146,
          147,
          148,
          149,
          150,
          151,
          152,
          153,
          154,
          155,
          156,
          157,
          158,
          159,
          160,
          161,
          162,
          163,
          164,
          165,
          166,
          167,
          168,
          169,
          170,
          171,
          172,
          173,
          174,
          175,
          176,
          177,
          178,
          179,
          180,
          181,
          182,
          183,
          184,
          185,
          186,
          187,
          188,
          189,
          190,
          191,
          192,
          193,
          194,
          195,
          196,
          197,
          198,
          199
         ],
         "y": [
          17.877838125071523,
          16.859068811411117,
          19.613496359639154,
          19.4968728922103,
          17.611553638891852,
          16.064525353400946,
          19.91879122045847,
          16.24960404727677,
          16.833516153949102,
          18.597256587672227,
          21.215485919447325,
          15.537931074631533,
          18.555460827797365,
          16.472274168585386,
          25.139869369794678,
          20.957889375451813,
          22.524632750947116,
          15.060217992708452,
          17.482868511492033,
          25.62943648977663,
          17.199834658109467,
          23.452859270754484,
          20.07626592097605,
          19.39440854584299,
          19.009912367969676,
          16.836897685348784,
          20.88189585842378,
          17.01065563918819,
          16.62753866995887,
          23.01633400305038,
          21.048674827397555,
          19.333580013681786,
          18.54085211489615,
          16.71912200081409,
          13.48106773553537,
          21.79445993421859,
          19.310474018997297,
          13.728834670567755,
          19.584728384322922,
          20.703442120029496,
          20.018556416674333,
          22.252739826658065,
          19.960072531505208,
          16.62027852421446,
          20.74519541794794,
          17.949051785302245,
          16.221998396965578,
          22.40998556227377,
          18.053206948192077,
          19.800561359764163,
          20.101548149356677,
          20.567797137801016,
          18.512953081421074,
          24.1016040378133,
          14.52994096016086,
          18.211408444522462,
          14.61301045958238,
          15.755288076673644,
          18.84098237886478,
          23.622771402965736,
          19.00241724339009,
          17.881276617213985,
          23.680079047465533,
          25.45052374381921,
          19.76276019687146,
          18.320401771186937,
          19.11271305934941,
          17.739254767887406,
          15.010731613026751,
          21.913933119361573,
          14.95846445291467,
          23.650946595685213,
          21.622733653262625,
          21.32039444015762,
          17.930458166439557,
          20.74003223669717,
          15.222119077194677,
          23.121865769604923,
          14.765499594620135,
          22.92013423321317,
          18.218690611612423,
          16.734014646987596,
          18.796009288790888,
          20.288613540781405,
          19.539824106219307,
          18.609358070255947,
          13.572852203761641,
          16.74254979150269,
          25.46443482945565,
          22.043765622086433,
          22.561454079276423,
          21.525824970080333,
          15.345787961952585,
          15.409220969582709,
          17.88299665391161,
          18.062275267480246,
          22.303828874582848,
          23.486343576122874,
          15.645100006345954,
          18.769360359800206,
          17.727051607038945,
          16.779954678128934,
          13.643560738685139,
          21.9685888898238,
          13.134013843734666,
          18.908586346250242,
          19.923059307626144,
          16.49184914459597,
          22.901651936674323,
          15.136607390851427,
          19.248539865780778,
          19.016581848936365,
          14.060697578796509,
          17.939279769960883,
          19.148192434975154,
          20.7197194111926,
          17.142872393213704,
          15.916272348481002,
          20.369517476492852,
          15.431109510136823,
          18.897218748479855,
          19.340667096094695,
          17.66879732500776,
          16.445971605127394,
          15.898197474340487,
          19.801020004230516,
          22.985198948909257,
          16.419110204873544,
          20.637628192907084,
          21.01456174581399,
          17.920923779018803,
          18.807578128093233,
          17.529407692765457,
          20.2898673289578,
          18.608881259196412,
          20.646374749263085,
          17.819771272753517,
          22.765561601530727,
          21.63141260802869,
          15.183425275425352,
          24.424777269432045,
          18.6247909531241,
          21.025256115796754,
          16.39954521370614,
          15.486703084616506,
          20.65906413048035,
          20.75461791101751,
          21.431255199761367,
          20.140134217485475,
          21.196989671549073,
          21.648137255361238,
          20.53010052703522,
          18.402320039381774,
          18.930725286626195,
          23.56665021545226,
          21.135902314123545,
          18.166653035474443,
          18.333413374195533,
          16.027322930652563,
          17.43031283541275,
          24.103922470596366,
          20.05114589195996,
          16.115885557281082,
          18.68800943720719,
          17.82266776064659,
          20.690243659340826,
          19.051482488614937,
          15.24728330327016,
          22.179468691565816,
          19.732586823598332,
          22.343852492610043,
          17.532988507027422,
          20.472658007151825,
          19.232830896430766,
          22.335321161801403,
          18.822576004473607,
          22.983702506089227,
          21.45618135598182,
          18.345688962708184,
          17.463203474387047,
          16.71915834246603,
          19.47449863436544,
          18.657518899209943,
          21.562284082180984,
          19.432544443128236,
          17.200740292522518,
          18.090307748606726,
          17.60254785756513,
          15.416250381721559,
          21.438186607276293,
          15.877990062603605,
          20.81840161701276,
          19.93175822831677,
          16.360224881121912,
          16.221344554531548,
          20.175622650934077,
          23.130512167529396,
          16.63333321342547,
          16.970084217884025,
          16.66772609686672
         ]
        },
        {
         "mode": "lines",
         "name": "Best Value",
         "type": "scatter",
         "x": [
          0,
          1,
          2,
          3,
          4,
          5,
          6,
          7,
          8,
          9,
          10,
          11,
          12,
          13,
          14,
          15,
          16,
          17,
          18,
          19,
          20,
          21,
          22,
          23,
          24,
          25,
          26,
          27,
          28,
          29,
          30,
          31,
          32,
          33,
          34,
          35,
          36,
          37,
          38,
          39,
          40,
          41,
          42,
          43,
          44,
          45,
          46,
          47,
          48,
          49,
          50,
          51,
          52,
          53,
          54,
          55,
          56,
          57,
          58,
          59,
          60,
          61,
          62,
          63,
          64,
          65,
          66,
          67,
          68,
          69,
          70,
          71,
          72,
          73,
          74,
          75,
          76,
          77,
          78,
          79,
          80,
          81,
          82,
          83,
          84,
          85,
          86,
          87,
          88,
          89,
          90,
          91,
          92,
          93,
          94,
          95,
          96,
          97,
          98,
          99,
          100,
          101,
          102,
          103,
          104,
          105,
          106,
          107,
          108,
          109,
          110,
          111,
          112,
          113,
          114,
          115,
          116,
          117,
          118,
          119,
          120,
          121,
          122,
          123,
          124,
          125,
          126,
          127,
          128,
          129,
          130,
          131,
          132,
          133,
          134,
          135,
          136,
          137,
          138,
          139,
          140,
          141,
          142,
          143,
          144,
          145,
          146,
          147,
          148,
          149,
          150,
          151,
          152,
          153,
          154,
          155,
          156,
          157,
          158,
          159,
          160,
          161,
          162,
          163,
          164,
          165,
          166,
          167,
          168,
          169,
          170,
          171,
          172,
          173,
          174,
          175,
          176,
          177,
          178,
          179,
          180,
          181,
          182,
          183,
          184,
          185,
          186,
          187,
          188,
          189,
          190,
          191,
          192,
          193,
          194,
          195,
          196,
          197,
          198,
          199
         ],
         "y": [
          17.877838125071523,
          16.859068811411117,
          16.859068811411117,
          16.859068811411117,
          16.859068811411117,
          16.064525353400946,
          16.064525353400946,
          16.064525353400946,
          16.064525353400946,
          16.064525353400946,
          16.064525353400946,
          15.537931074631533,
          15.537931074631533,
          15.537931074631533,
          15.537931074631533,
          15.537931074631533,
          15.537931074631533,
          15.060217992708452,
          15.060217992708452,
          15.060217992708452,
          15.060217992708452,
          15.060217992708452,
          15.060217992708452,
          15.060217992708452,
          15.060217992708452,
          15.060217992708452,
          15.060217992708452,
          15.060217992708452,
          15.060217992708452,
          15.060217992708452,
          15.060217992708452,
          15.060217992708452,
          15.060217992708452,
          15.060217992708452,
          13.48106773553537,
          13.48106773553537,
          13.48106773553537,
          13.48106773553537,
          13.48106773553537,
          13.48106773553537,
          13.48106773553537,
          13.48106773553537,
          13.48106773553537,
          13.48106773553537,
          13.48106773553537,
          13.48106773553537,
          13.48106773553537,
          13.48106773553537,
          13.48106773553537,
          13.48106773553537,
          13.48106773553537,
          13.48106773553537,
          13.48106773553537,
          13.48106773553537,
          13.48106773553537,
          13.48106773553537,
          13.48106773553537,
          13.48106773553537,
          13.48106773553537,
          13.48106773553537,
          13.48106773553537,
          13.48106773553537,
          13.48106773553537,
          13.48106773553537,
          13.48106773553537,
          13.48106773553537,
          13.48106773553537,
          13.48106773553537,
          13.48106773553537,
          13.48106773553537,
          13.48106773553537,
          13.48106773553537,
          13.48106773553537,
          13.48106773553537,
          13.48106773553537,
          13.48106773553537,
          13.48106773553537,
          13.48106773553537,
          13.48106773553537,
          13.48106773553537,
          13.48106773553537,
          13.48106773553537,
          13.48106773553537,
          13.48106773553537,
          13.48106773553537,
          13.48106773553537,
          13.48106773553537,
          13.48106773553537,
          13.48106773553537,
          13.48106773553537,
          13.48106773553537,
          13.48106773553537,
          13.48106773553537,
          13.48106773553537,
          13.48106773553537,
          13.48106773553537,
          13.48106773553537,
          13.48106773553537,
          13.48106773553537,
          13.48106773553537,
          13.48106773553537,
          13.48106773553537,
          13.48106773553537,
          13.48106773553537,
          13.134013843734666,
          13.134013843734666,
          13.134013843734666,
          13.134013843734666,
          13.134013843734666,
          13.134013843734666,
          13.134013843734666,
          13.134013843734666,
          13.134013843734666,
          13.134013843734666,
          13.134013843734666,
          13.134013843734666,
          13.134013843734666,
          13.134013843734666,
          13.134013843734666,
          13.134013843734666,
          13.134013843734666,
          13.134013843734666,
          13.134013843734666,
          13.134013843734666,
          13.134013843734666,
          13.134013843734666,
          13.134013843734666,
          13.134013843734666,
          13.134013843734666,
          13.134013843734666,
          13.134013843734666,
          13.134013843734666,
          13.134013843734666,
          13.134013843734666,
          13.134013843734666,
          13.134013843734666,
          13.134013843734666,
          13.134013843734666,
          13.134013843734666,
          13.134013843734666,
          13.134013843734666,
          13.134013843734666,
          13.134013843734666,
          13.134013843734666,
          13.134013843734666,
          13.134013843734666,
          13.134013843734666,
          13.134013843734666,
          13.134013843734666,
          13.134013843734666,
          13.134013843734666,
          13.134013843734666,
          13.134013843734666,
          13.134013843734666,
          13.134013843734666,
          13.134013843734666,
          13.134013843734666,
          13.134013843734666,
          13.134013843734666,
          13.134013843734666,
          13.134013843734666,
          13.134013843734666,
          13.134013843734666,
          13.134013843734666,
          13.134013843734666,
          13.134013843734666,
          13.134013843734666,
          13.134013843734666,
          13.134013843734666,
          13.134013843734666,
          13.134013843734666,
          13.134013843734666,
          13.134013843734666,
          13.134013843734666,
          13.134013843734666,
          13.134013843734666,
          13.134013843734666,
          13.134013843734666,
          13.134013843734666,
          13.134013843734666,
          13.134013843734666,
          13.134013843734666,
          13.134013843734666,
          13.134013843734666,
          13.134013843734666,
          13.134013843734666,
          13.134013843734666,
          13.134013843734666,
          13.134013843734666,
          13.134013843734666,
          13.134013843734666,
          13.134013843734666,
          13.134013843734666,
          13.134013843734666,
          13.134013843734666,
          13.134013843734666,
          13.134013843734666,
          13.134013843734666,
          13.134013843734666,
          13.134013843734666
         ]
        },
        {
         "marker": {
          "color": "#cccccc"
         },
         "mode": "markers",
         "name": "Infeasible Trial",
         "showlegend": false,
         "type": "scatter",
         "x": [],
         "y": []
        }
       ],
       "layout": {
        "template": {
         "data": {
          "candlestick": [
           {
            "decreasing": {
             "line": {
              "color": "#000033"
             }
            },
            "increasing": {
             "line": {
              "color": "#000032"
             }
            },
            "type": "candlestick"
           }
          ],
          "contour": [
           {
            "colorscale": [
             [
              0,
              "#000011"
             ],
             [
              0.1111111111111111,
              "#000012"
             ],
             [
              0.2222222222222222,
              "#000013"
             ],
             [
              0.3333333333333333,
              "#000014"
             ],
             [
              0.4444444444444444,
              "#000015"
             ],
             [
              0.5555555555555556,
              "#000016"
             ],
             [
              0.6666666666666666,
              "#000017"
             ],
             [
              0.7777777777777778,
              "#000018"
             ],
             [
              0.8888888888888888,
              "#000019"
             ],
             [
              1,
              "#000020"
             ]
            ],
            "type": "contour"
           }
          ],
          "contourcarpet": [
           {
            "colorscale": [
             [
              0,
              "#000011"
             ],
             [
              0.1111111111111111,
              "#000012"
             ],
             [
              0.2222222222222222,
              "#000013"
             ],
             [
              0.3333333333333333,
              "#000014"
             ],
             [
              0.4444444444444444,
              "#000015"
             ],
             [
              0.5555555555555556,
              "#000016"
             ],
             [
              0.6666666666666666,
              "#000017"
             ],
             [
              0.7777777777777778,
              "#000018"
             ],
             [
              0.8888888888888888,
              "#000019"
             ],
             [
              1,
              "#000020"
             ]
            ],
            "type": "contourcarpet"
           }
          ],
          "heatmap": [
           {
            "colorscale": [
             [
              0,
              "#000011"
             ],
             [
              0.1111111111111111,
              "#000012"
             ],
             [
              0.2222222222222222,
              "#000013"
             ],
             [
              0.3333333333333333,
              "#000014"
             ],
             [
              0.4444444444444444,
              "#000015"
             ],
             [
              0.5555555555555556,
              "#000016"
             ],
             [
              0.6666666666666666,
              "#000017"
             ],
             [
              0.7777777777777778,
              "#000018"
             ],
             [
              0.8888888888888888,
              "#000019"
             ],
             [
              1,
              "#000020"
             ]
            ],
            "type": "heatmap"
           }
          ],
          "histogram2d": [
           {
            "colorscale": [
             [
              0,
              "#000011"
             ],
             [
              0.1111111111111111,
              "#000012"
             ],
             [
              0.2222222222222222,
              "#000013"
             ],
             [
              0.3333333333333333,
              "#000014"
             ],
             [
              0.4444444444444444,
              "#000015"
             ],
             [
              0.5555555555555556,
              "#000016"
             ],
             [
              0.6666666666666666,
              "#000017"
             ],
             [
              0.7777777777777778,
              "#000018"
             ],
             [
              0.8888888888888888,
              "#000019"
             ],
             [
              1,
              "#000020"
             ]
            ],
            "type": "histogram2d"
           }
          ],
          "icicle": [
           {
            "textfont": {
             "color": "white"
            },
            "type": "icicle"
           }
          ],
          "sankey": [
           {
            "textfont": {
             "color": "#000036"
            },
            "type": "sankey"
           }
          ],
          "scatter": [
           {
            "marker": {
             "line": {
              "width": 0
             }
            },
            "type": "scatter"
           }
          ],
          "table": [
           {
            "cells": {
             "fill": {
              "color": "#000038"
             },
             "font": {
              "color": "#000037"
             },
             "line": {
              "color": "#000039"
             }
            },
            "header": {
             "fill": {
              "color": "#000040"
             },
             "font": {
              "color": "#000036"
             },
             "line": {
              "color": "#000039"
             }
            },
            "type": "table"
           }
          ],
          "waterfall": [
           {
            "connector": {
             "line": {
              "color": "#000036",
              "width": 2
             }
            },
            "decreasing": {
             "marker": {
              "color": "#000033"
             }
            },
            "increasing": {
             "marker": {
              "color": "#000032"
             }
            },
            "totals": {
             "marker": {
              "color": "#000034"
             }
            },
            "type": "waterfall"
           }
          ]
         },
         "layout": {
          "coloraxis": {
           "colorscale": [
            [
             0,
             "#000011"
            ],
            [
             0.1111111111111111,
             "#000012"
            ],
            [
             0.2222222222222222,
             "#000013"
            ],
            [
             0.3333333333333333,
             "#000014"
            ],
            [
             0.4444444444444444,
             "#000015"
            ],
            [
             0.5555555555555556,
             "#000016"
            ],
            [
             0.6666666666666666,
             "#000017"
            ],
            [
             0.7777777777777778,
             "#000018"
            ],
            [
             0.8888888888888888,
             "#000019"
            ],
            [
             1,
             "#000020"
            ]
           ]
          },
          "colorscale": {
           "diverging": [
            [
             0,
             "#000021"
            ],
            [
             0.1,
             "#000022"
            ],
            [
             0.2,
             "#000023"
            ],
            [
             0.3,
             "#000024"
            ],
            [
             0.4,
             "#000025"
            ],
            [
             0.5,
             "#000026"
            ],
            [
             0.6,
             "#000027"
            ],
            [
             0.7,
             "#000028"
            ],
            [
             0.8,
             "#000029"
            ],
            [
             0.9,
             "#000030"
            ],
            [
             1,
             "#000031"
            ]
           ],
           "sequential": [
            [
             0,
             "#000011"
            ],
            [
             0.1111111111111111,
             "#000012"
            ],
            [
             0.2222222222222222,
             "#000013"
            ],
            [
             0.3333333333333333,
             "#000014"
            ],
            [
             0.4444444444444444,
             "#000015"
            ],
            [
             0.5555555555555556,
             "#000016"
            ],
            [
             0.6666666666666666,
             "#000017"
            ],
            [
             0.7777777777777778,
             "#000018"
            ],
            [
             0.8888888888888888,
             "#000019"
            ],
            [
             1,
             "#000020"
            ]
           ],
           "sequentialminus": [
            [
             0,
             "#000011"
            ],
            [
             0.1111111111111111,
             "#000012"
            ],
            [
             0.2222222222222222,
             "#000013"
            ],
            [
             0.3333333333333333,
             "#000014"
            ],
            [
             0.4444444444444444,
             "#000015"
            ],
            [
             0.5555555555555556,
             "#000016"
            ],
            [
             0.6666666666666666,
             "#000017"
            ],
            [
             0.7777777777777778,
             "#000018"
            ],
            [
             0.8888888888888888,
             "#000019"
            ],
            [
             1,
             "#000020"
            ]
           ]
          },
          "colorway": [
           "#000001",
           "#000002",
           "#000003",
           "#000004",
           "#000005",
           "#000006",
           "#000007",
           "#000008",
           "#000009",
           "#000010"
          ]
         }
        },
        "title": {
         "text": "Optimization History Plot"
        },
        "xaxis": {
         "title": {
          "text": "Trial"
         }
        },
        "yaxis": {
         "title": {
          "text": "Objective Value"
         }
        }
       }
      }
     },
     "metadata": {},
     "output_type": "display_data"
    }
   ],
   "source": [
    "### Check optimization history plot\n",
    "vis.plot_optimization_history(study)\n"
   ]
  },
  {
   "cell_type": "code",
   "execution_count": 15,
   "metadata": {},
   "outputs": [
    {
     "data": {
      "application/vnd.plotly.v1+json": {
       "config": {
        "plotlyServerURL": "https://plot.ly"
       },
       "data": [
        {
         "cliponaxis": false,
         "hovertemplate": [
          "min_child_weight (IntDistribution): 0.003269905574457075<extra></extra>",
          "lambda (FloatDistribution): 0.0057099076257904<extra></extra>",
          "colsample_bytree (FloatDistribution): 0.0061179045141728505<extra></extra>",
          "gamma (FloatDistribution): 0.007560709522497686<extra></extra>",
          "alpha (FloatDistribution): 0.028699611140177855<extra></extra>",
          "subsample (FloatDistribution): 0.04707161851788343<extra></extra>",
          "n_estimators (IntDistribution): 0.1965348267316275<extra></extra>",
          "max_depth (IntDistribution): 0.19971861273579625<extra></extra>",
          "learning_rate (FloatDistribution): 0.5053169036375968<extra></extra>"
         ],
         "name": "Objective Value",
         "orientation": "h",
         "text": [
          "<0.01",
          "<0.01",
          "<0.01",
          "<0.01",
          "0.03",
          "0.05",
          "0.20",
          "0.20",
          "0.51"
         ],
         "textposition": "outside",
         "type": "bar",
         "x": [
          0.003269905574457075,
          0.0057099076257904,
          0.0061179045141728505,
          0.007560709522497686,
          0.028699611140177855,
          0.04707161851788343,
          0.1965348267316275,
          0.19971861273579625,
          0.5053169036375968
         ],
         "y": [
          "min_child_weight",
          "lambda",
          "colsample_bytree",
          "gamma",
          "alpha",
          "subsample",
          "n_estimators",
          "max_depth",
          "learning_rate"
         ]
        }
       ],
       "layout": {
        "template": {
         "data": {
          "candlestick": [
           {
            "decreasing": {
             "line": {
              "color": "#000033"
             }
            },
            "increasing": {
             "line": {
              "color": "#000032"
             }
            },
            "type": "candlestick"
           }
          ],
          "contour": [
           {
            "colorscale": [
             [
              0,
              "#000011"
             ],
             [
              0.1111111111111111,
              "#000012"
             ],
             [
              0.2222222222222222,
              "#000013"
             ],
             [
              0.3333333333333333,
              "#000014"
             ],
             [
              0.4444444444444444,
              "#000015"
             ],
             [
              0.5555555555555556,
              "#000016"
             ],
             [
              0.6666666666666666,
              "#000017"
             ],
             [
              0.7777777777777778,
              "#000018"
             ],
             [
              0.8888888888888888,
              "#000019"
             ],
             [
              1,
              "#000020"
             ]
            ],
            "type": "contour"
           }
          ],
          "contourcarpet": [
           {
            "colorscale": [
             [
              0,
              "#000011"
             ],
             [
              0.1111111111111111,
              "#000012"
             ],
             [
              0.2222222222222222,
              "#000013"
             ],
             [
              0.3333333333333333,
              "#000014"
             ],
             [
              0.4444444444444444,
              "#000015"
             ],
             [
              0.5555555555555556,
              "#000016"
             ],
             [
              0.6666666666666666,
              "#000017"
             ],
             [
              0.7777777777777778,
              "#000018"
             ],
             [
              0.8888888888888888,
              "#000019"
             ],
             [
              1,
              "#000020"
             ]
            ],
            "type": "contourcarpet"
           }
          ],
          "heatmap": [
           {
            "colorscale": [
             [
              0,
              "#000011"
             ],
             [
              0.1111111111111111,
              "#000012"
             ],
             [
              0.2222222222222222,
              "#000013"
             ],
             [
              0.3333333333333333,
              "#000014"
             ],
             [
              0.4444444444444444,
              "#000015"
             ],
             [
              0.5555555555555556,
              "#000016"
             ],
             [
              0.6666666666666666,
              "#000017"
             ],
             [
              0.7777777777777778,
              "#000018"
             ],
             [
              0.8888888888888888,
              "#000019"
             ],
             [
              1,
              "#000020"
             ]
            ],
            "type": "heatmap"
           }
          ],
          "histogram2d": [
           {
            "colorscale": [
             [
              0,
              "#000011"
             ],
             [
              0.1111111111111111,
              "#000012"
             ],
             [
              0.2222222222222222,
              "#000013"
             ],
             [
              0.3333333333333333,
              "#000014"
             ],
             [
              0.4444444444444444,
              "#000015"
             ],
             [
              0.5555555555555556,
              "#000016"
             ],
             [
              0.6666666666666666,
              "#000017"
             ],
             [
              0.7777777777777778,
              "#000018"
             ],
             [
              0.8888888888888888,
              "#000019"
             ],
             [
              1,
              "#000020"
             ]
            ],
            "type": "histogram2d"
           }
          ],
          "icicle": [
           {
            "textfont": {
             "color": "white"
            },
            "type": "icicle"
           }
          ],
          "sankey": [
           {
            "textfont": {
             "color": "#000036"
            },
            "type": "sankey"
           }
          ],
          "scatter": [
           {
            "marker": {
             "line": {
              "width": 0
             }
            },
            "type": "scatter"
           }
          ],
          "table": [
           {
            "cells": {
             "fill": {
              "color": "#000038"
             },
             "font": {
              "color": "#000037"
             },
             "line": {
              "color": "#000039"
             }
            },
            "header": {
             "fill": {
              "color": "#000040"
             },
             "font": {
              "color": "#000036"
             },
             "line": {
              "color": "#000039"
             }
            },
            "type": "table"
           }
          ],
          "waterfall": [
           {
            "connector": {
             "line": {
              "color": "#000036",
              "width": 2
             }
            },
            "decreasing": {
             "marker": {
              "color": "#000033"
             }
            },
            "increasing": {
             "marker": {
              "color": "#000032"
             }
            },
            "totals": {
             "marker": {
              "color": "#000034"
             }
            },
            "type": "waterfall"
           }
          ]
         },
         "layout": {
          "coloraxis": {
           "colorscale": [
            [
             0,
             "#000011"
            ],
            [
             0.1111111111111111,
             "#000012"
            ],
            [
             0.2222222222222222,
             "#000013"
            ],
            [
             0.3333333333333333,
             "#000014"
            ],
            [
             0.4444444444444444,
             "#000015"
            ],
            [
             0.5555555555555556,
             "#000016"
            ],
            [
             0.6666666666666666,
             "#000017"
            ],
            [
             0.7777777777777778,
             "#000018"
            ],
            [
             0.8888888888888888,
             "#000019"
            ],
            [
             1,
             "#000020"
            ]
           ]
          },
          "colorscale": {
           "diverging": [
            [
             0,
             "#000021"
            ],
            [
             0.1,
             "#000022"
            ],
            [
             0.2,
             "#000023"
            ],
            [
             0.3,
             "#000024"
            ],
            [
             0.4,
             "#000025"
            ],
            [
             0.5,
             "#000026"
            ],
            [
             0.6,
             "#000027"
            ],
            [
             0.7,
             "#000028"
            ],
            [
             0.8,
             "#000029"
            ],
            [
             0.9,
             "#000030"
            ],
            [
             1,
             "#000031"
            ]
           ],
           "sequential": [
            [
             0,
             "#000011"
            ],
            [
             0.1111111111111111,
             "#000012"
            ],
            [
             0.2222222222222222,
             "#000013"
            ],
            [
             0.3333333333333333,
             "#000014"
            ],
            [
             0.4444444444444444,
             "#000015"
            ],
            [
             0.5555555555555556,
             "#000016"
            ],
            [
             0.6666666666666666,
             "#000017"
            ],
            [
             0.7777777777777778,
             "#000018"
            ],
            [
             0.8888888888888888,
             "#000019"
            ],
            [
             1,
             "#000020"
            ]
           ],
           "sequentialminus": [
            [
             0,
             "#000011"
            ],
            [
             0.1111111111111111,
             "#000012"
            ],
            [
             0.2222222222222222,
             "#000013"
            ],
            [
             0.3333333333333333,
             "#000014"
            ],
            [
             0.4444444444444444,
             "#000015"
            ],
            [
             0.5555555555555556,
             "#000016"
            ],
            [
             0.6666666666666666,
             "#000017"
            ],
            [
             0.7777777777777778,
             "#000018"
            ],
            [
             0.8888888888888888,
             "#000019"
            ],
            [
             1,
             "#000020"
            ]
           ]
          },
          "colorway": [
           "#000001",
           "#000002",
           "#000003",
           "#000004",
           "#000005",
           "#000006",
           "#000007",
           "#000008",
           "#000009",
           "#000010"
          ]
         }
        },
        "title": {
         "text": "Hyperparameter Importances"
        },
        "xaxis": {
         "title": {
          "text": "Hyperparameter Importance"
         }
        },
        "yaxis": {
         "title": {
          "text": "Hyperparameter"
         }
        }
       }
      }
     },
     "metadata": {},
     "output_type": "display_data"
    }
   ],
   "source": [
    "vis.plot_param_importances(study)\n"
   ]
  },
  {
   "cell_type": "code",
   "execution_count": null,
   "metadata": {},
   "outputs": [],
   "source": [
    "### Use streamlit\n",
    "\n",
    "st.title(\"Simple Data Explorer\")\n",
    "uploaded_file = st.file_uploader(\"\", type=\"csv\")\n",
    "\n",
    "\n"
   ]
  },
  {
   "cell_type": "code",
   "execution_count": null,
   "metadata": {},
   "outputs": [],
   "source": []
  }
 ],
 "metadata": {
  "kernelspec": {
   "display_name": "Python 3",
   "language": "python",
   "name": "python3"
  },
  "language_info": {
   "codemirror_mode": {
    "name": "ipython",
    "version": 3
   },
   "file_extension": ".py",
   "mimetype": "text/x-python",
   "name": "python",
   "nbconvert_exporter": "python",
   "pygments_lexer": "ipython3",
   "version": "3.12.4"
  }
 },
 "nbformat": 4,
 "nbformat_minor": 2
}
